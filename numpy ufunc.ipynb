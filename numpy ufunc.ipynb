{
 "cells": [
  {
   "cell_type": "code",
   "execution_count": null,
   "id": "1cb20e74-8a73-4761-b00f-0a6994eb413c",
   "metadata": {},
   "outputs": [],
   "source": [
    "                    \"Numpy  Universal Functions\""
   ]
  },
  {
   "cell_type": "code",
   "execution_count": null,
   "id": "a9cd8a7c-3ad1-4268-8b13-ddc95ab8edb8",
   "metadata": {},
   "outputs": [],
   "source": [
    "what is ufunc?"
   ]
  },
  {
   "cell_type": "markdown",
   "id": "2366286a-04d2-4727-bf86-542dc3bc78e4",
   "metadata": {},
   "source": [
    "\n",
    "\n",
    "ufuncs stands for \"universal Functions\" and they are Numpy functions that operate on the 'ndarray' object"
   ]
  },
  {
   "cell_type": "code",
   "execution_count": null,
   "id": "800d3d88-133d-4de1-acd9-7b90f36d79d5",
   "metadata": {},
   "outputs": [],
   "source": [
    "Use of ufuncs:"
   ]
  },
  {
   "cell_type": "markdown",
   "id": "e3de0566-f4b2-44ec-956c-f54aecb57f7a",
   "metadata": {},
   "source": [
    "ufuncs are used to implement \"vectorization\" in NumPy which is way faster then iterating over elements\n",
    "\n",
    "They also provide broadcasting and additional methodslike reduce,accumulate etc, that are very helpful for computation.\n",
    "\n",
    "Vectorisation:process of performing opeartions on entire arrays without using any loops in python.\n",
    "\n",
    "this is one of the key feature that makes NumPy fast and effiecient.\n",
    "\n",
    "\n",
    "\n",
    "                                                                                                      \n",
    "                                                                                                      \n",
    "                                                                                                    \n",
    "                                "
   ]
  },
  {
   "cell_type": "code",
   "execution_count": null,
   "id": "fecd6524-d750-4167-aa47-3e45a268e604",
   "metadata": {},
   "outputs": [],
   "source": [
    "key Points about vectorization:\n",
    "\n",
    "1.Avoid explicit loops:instead of using for loops for iterate entire array. we can prform opearations directly on the array.\n"
   ]
  },
  {
   "cell_type": "code",
   "execution_count": 24,
   "id": "1ef6fa39-05b4-40b3-979d-98070cfafbdd",
   "metadata": {},
   "outputs": [
    {
     "name": "stdout",
     "output_type": "stream",
     "text": [
      "[ 6.  8. 10. 12.]\n",
      "[ 6  8 10 12]\n"
     ]
    }
   ],
   "source": [
    "import numpy as np\n",
    "\n",
    "# Without vectorization (using a loop)\n",
    "a = np.array([1, 2, 3, 4])\n",
    "b = np.array([5, 6, 7, 8])\n",
    "c = np.zeros(4)\n",
    "for i in range(len(a)):\n",
    "    c[i] = a[i] + b[i]\n",
    "    \n",
    "print(c)\n",
    "# With vectorization\n",
    "c = a + b\n",
    "\n",
    "print(c)"
   ]
  },
  {
   "cell_type": "markdown",
   "id": "73c8d681-9d1e-42b0-a025-cad4306e60ea",
   "metadata": {},
   "source": [
    "In the vectorized version, the addition is done on the entire array at once, which is not only more concise but also faster."
   ]
  },
  {
   "cell_type": "markdown",
   "id": "ec959b69-07b4-4a16-aa0b-8e59e95ad3a7",
   "metadata": {},
   "source": [
    "2.leverages Low-Level-Optimisations: Numpy is implemented in C,when you we use vectorised operations,you're essentially calling optimised C code .This results in significant speedups compared to executing Python loops."
   ]
  },
  {
   "cell_type": "markdown",
   "id": "b4275be7-c8d4-4b6a-b509-1dfb3b74a845",
   "metadata": {},
   "source": [
    "3.Memory Efficiency:Vectorised opearations often reduce the memory overhead because they avoid the creation of temporary variables and additional memory allocations that might be needed when looping in Python"
   ]
  },
  {
   "cell_type": "markdown",
   "id": "e27dc1f8-abe3-47eb-9bb8-53cada40d948",
   "metadata": {},
   "source": [
    "4.Broadcasting:NumPy's broadcasting allows us to perform operations on arrays of different shapes in vectorised manner."
   ]
  },
  {
   "cell_type": "code",
   "execution_count": 32,
   "id": "345d4027-617c-4fd5-9f3d-316ee867fb41",
   "metadata": {},
   "outputs": [
    {
     "name": "stdout",
     "output_type": "stream",
     "text": [
      "[[2 3 4 5]\n",
      " [3 4 5 6]\n",
      " [4 5 6 7]\n",
      " [5 6 7 8]]\n"
     ]
    }
   ],
   "source": [
    "a=np.array([1,2,3,4])\n",
    "b=np.array([[1],[2],[3],[4]])\n",
    "c=a+b\n",
    "print(c)"
   ]
  },
  {
   "cell_type": "markdown",
   "id": "cebcdff3-a9fd-4633-bed7-7416359fcb07",
   "metadata": {},
   "source": [
    "Here, a is a 1D array, and b is a 2D array, but they can be added together through broadcasting."
   ]
  },
  {
   "cell_type": "code",
   "execution_count": null,
   "id": "83cdbfd7-2012-485f-9373-294d468fed1a",
   "metadata": {},
   "outputs": [],
   "source": [
    "speedup:"
   ]
  },
  {
   "cell_type": "code",
   "execution_count": 71,
   "id": "97ba1e93-4b49-451c-b204-6ba2c7431831",
   "metadata": {},
   "outputs": [
    {
     "name": "stdout",
     "output_type": "stream",
     "text": [
      "Loop took 0.06978631019592285 seconds\n",
      "vectorised opearation took 0.008102178573608398 seconds\n"
     ]
    }
   ],
   "source": [
    "import numpy as np\n",
    "import time\n",
    "\n",
    "#create a large arrays\n",
    "size=100000\n",
    "a=np.random.rand(size)\n",
    "b=np.random.rand(size)\n",
    "\n",
    "#loop-based addition\n",
    "\n",
    "start_time=time.time()\n",
    "result=np.zeros(size)\n",
    "for i in range(size):\n",
    "    result[i]=a[i]+b[i]\n",
    "print(f\"Loop took {time.time() - start_time} seconds\")\n",
    "\n",
    "#vectorised addition\n",
    "start_time=time.time()\n",
    "result=a+b\n",
    "print(f\"vectorised opearation took {time.time() - start_time} seconds\")"
   ]
  },
  {
   "cell_type": "code",
   "execution_count": null,
   "id": "06196983-e91e-40d8-bf01-12f399f04490",
   "metadata": {},
   "outputs": [],
   "source": []
  },
  {
   "cell_type": "markdown",
   "id": "dabada35-c8ff-4634-adeb-2fea2fa26d19",
   "metadata": {},
   "source": [
    "ufuncs also takes additional arguments ,like:\n",
    "\n",
    "'where' - boolean array or condition defining where the opearations should take place\n",
    "\n",
    "'dtype' defining the return type of elements\n",
    "\n",
    "'out'- output array where the return value should be copied"
   ]
  },
  {
   "cell_type": "code",
   "execution_count": null,
   "id": "a079ab7b-fdec-4550-8bda-ce875a6a8dbd",
   "metadata": {},
   "outputs": [],
   "source": [
    "What is Vectorization?\n",
    "\n",
    "\n",
    "Converting iterative statements into a vector based operation is called vectorization.\n",
    "\n",
    "It is faster as modern CPUs are optimized for such operations."
   ]
  },
  {
   "cell_type": "code",
   "execution_count": null,
   "id": "8f29fdb1-626c-468a-b33a-5bb67a6e2a2d",
   "metadata": {},
   "outputs": [],
   "source": [
    "Add elements of two lists:\n",
    "Without ufunc, we can use Python's built-in zip() method:"
   ]
  },
  {
   "cell_type": "code",
   "execution_count": 74,
   "id": "a8215c0a-d449-40bd-8173-132179ca187f",
   "metadata": {},
   "outputs": [
    {
     "name": "stdout",
     "output_type": "stream",
     "text": [
      "[4, 6, 8, 10]\n"
     ]
    }
   ],
   "source": [
    "x=[1,2,3,4]\n",
    "y=[3,4,5,6]\n",
    "z=[]\n",
    "\n",
    "for i ,j in zip(x,y):\n",
    "    z.append(i+j)\n",
    "print(z)"
   ]
  },
  {
   "cell_type": "code",
   "execution_count": null,
   "id": "0514d3f3-e1a0-489e-9dcc-da1515a6928b",
   "metadata": {},
   "outputs": [],
   "source": [
    "NumPy has ufunc for ythis ,called 'add(x,y)' that will produce the same result"
   ]
  },
  {
   "cell_type": "code",
   "execution_count": 76,
   "id": "f3a4f74e-2923-45f8-b45f-7373a267f931",
   "metadata": {},
   "outputs": [
    {
     "name": "stdout",
     "output_type": "stream",
     "text": [
      "[3 5 7 9]\n"
     ]
    }
   ],
   "source": [
    "import numpy as np\n",
    "x=[1,2,3,4]\n",
    "y=[2,3,4,5]\n",
    "z=np.add(x,y)\n",
    "print(z)\n"
   ]
  },
  {
   "cell_type": "code",
   "execution_count": null,
   "id": "cded058b-7d3b-4377-89a9-569be0998e0a",
   "metadata": {},
   "outputs": [],
   "source": [
    "\"create our own ufunc\""
   ]
  },
  {
   "cell_type": "code",
   "execution_count": null,
   "id": "501b0a30-9501-491f-beb8-44337dcf4ff2",
   "metadata": {},
   "outputs": [],
   "source": [
    "How to create our own ufunc?"
   ]
  },
  {
   "cell_type": "markdown",
   "id": "1f2799a6-06ef-43c9-8335-bb0b6314af96",
   "metadata": {},
   "source": [
    "to craete our own ufunc ,we have to define a function ,like you do with normal functions in python ,then add it to your NumPy ufunc library with the 'frompyfunc()' method."
   ]
  },
  {
   "cell_type": "code",
   "execution_count": null,
   "id": "04dfc41a-aa79-4449-aff4-a3ec81753b22",
   "metadata": {},
   "outputs": [],
   "source": [
    "The frompyfunc() method takes the following arguements:\n",
    "1.function()-the name of the function\n",
    "2.inputs-the number of input  arguements(arrays)\n",
    "3.outputs-the number of output arrays."
   ]
  },
  {
   "cell_type": "code",
   "execution_count": 82,
   "id": "7ca9cf8f-3fdf-45a9-b11a-9d58090067d5",
   "metadata": {},
   "outputs": [
    {
     "name": "stdout",
     "output_type": "stream",
     "text": [
      "[5 7 10 12]\n"
     ]
    }
   ],
   "source": [
    "import numpy as np\n",
    "def myadd(x,y):\n",
    "    return x+y\n",
    "myadd=np.frompyfunc(myadd,2,1) # here myadd is function and 2 is number of inputs and 1 is number of outputs\n",
    "print(myadd([1,2,4,5],[4,5,6,7]))"
   ]
  },
  {
   "cell_type": "code",
   "execution_count": 86,
   "id": "0fc9bd0c-d9ca-4cc3-a043-c2821b920716",
   "metadata": {},
   "outputs": [
    {
     "name": "stdout",
     "output_type": "stream",
     "text": [
      "[7 11 14 17]\n"
     ]
    }
   ],
   "source": [
    "def myadd(x,y,z):\n",
    "    return x+y+z\n",
    "myadd=np.frompyfunc(myadd,3,1)\n",
    "print(myadd([1,2,3,5],[2,4,5,6],[4,5,6,6]))"
   ]
  },
  {
   "cell_type": "code",
   "execution_count": null,
   "id": "6c3d836b-e3c2-44ed-aeed-7c995a98fa26",
   "metadata": {},
   "outputs": [],
   "source": [
    "\"check if a function is ufunc\""
   ]
  },
  {
   "cell_type": "markdown",
   "id": "0fb93011-67c7-4d01-9bd2-e73687828015",
   "metadata": {},
   "source": [
    "check the type of function to check if it is a ufunc or not\n",
    "\n",
    "S ufunc should return <class 'numpy.ufunc'>."
   ]
  },
  {
   "cell_type": "code",
   "execution_count": 89,
   "id": "e7b62a34-a935-4d92-afd1-7fae35c2fd16",
   "metadata": {},
   "outputs": [
    {
     "name": "stdout",
     "output_type": "stream",
     "text": [
      "<class 'numpy.ufunc'>\n"
     ]
    }
   ],
   "source": [
    "print(type(myadd))"
   ]
  },
  {
   "cell_type": "markdown",
   "id": "d52078cd-d4d8-49ea-96a9-35edef734931",
   "metadata": {},
   "source": [
    "If it is not a ufunc, it will return another type, like this built-in NumPy function for joining two or more arrays:\n",
    "\n",
    "Example"
   ]
  },
  {
   "cell_type": "code",
   "execution_count": 92,
   "id": "a8cfb153-e9d9-48de-a1ef-a0469a03f59a",
   "metadata": {},
   "outputs": [
    {
     "name": "stdout",
     "output_type": "stream",
     "text": [
      "<class 'numpy._ArrayFunctionDispatcher'>\n"
     ]
    }
   ],
   "source": [
    "print(type(np.concatenate))"
   ]
  },
  {
   "cell_type": "markdown",
   "id": "209b6c91-aec1-47c3-9467-814fd1dad522",
   "metadata": {},
   "source": [
    "If the function is not recognized at all, it will return an error:"
   ]
  },
  {
   "cell_type": "code",
   "execution_count": 97,
   "id": "c0860b0b-2d9e-4af0-8151-2d7bdf3ccb55",
   "metadata": {},
   "outputs": [
    {
     "ename": "AttributeError",
     "evalue": "module 'numpy' has no attribute 'vasuhblah'",
     "output_type": "error",
     "traceback": [
      "\u001b[1;31m---------------------------------------------------------------------------\u001b[0m",
      "\u001b[1;31mAttributeError\u001b[0m                            Traceback (most recent call last)",
      "Cell \u001b[1;32mIn[97], line 3\u001b[0m\n\u001b[0;32m      1\u001b[0m \u001b[38;5;28;01mimport\u001b[39;00m \u001b[38;5;21;01mnumpy\u001b[39;00m \u001b[38;5;28;01mas\u001b[39;00m \u001b[38;5;21;01mnp\u001b[39;00m\n\u001b[1;32m----> 3\u001b[0m \u001b[38;5;28mprint\u001b[39m(\u001b[38;5;28mtype\u001b[39m(np\u001b[38;5;241m.\u001b[39mvasuhblah))\n",
      "File \u001b[1;32m~\\anaconda3\\Lib\\site-packages\\numpy\\__init__.py:333\u001b[0m, in \u001b[0;36m__getattr__\u001b[1;34m(attr)\u001b[0m\n\u001b[0;32m    330\u001b[0m     \u001b[38;5;124m\"\u001b[39m\u001b[38;5;124mRemoved in NumPy 1.25.0\u001b[39m\u001b[38;5;124m\"\u001b[39m\n\u001b[0;32m    331\u001b[0m     \u001b[38;5;28;01mraise\u001b[39;00m \u001b[38;5;167;01mRuntimeError\u001b[39;00m(\u001b[38;5;124m\"\u001b[39m\u001b[38;5;124mTester was removed in NumPy 1.25.\u001b[39m\u001b[38;5;124m\"\u001b[39m)\n\u001b[1;32m--> 333\u001b[0m \u001b[38;5;28;01mraise\u001b[39;00m \u001b[38;5;167;01mAttributeError\u001b[39;00m(\u001b[38;5;124m\"\u001b[39m\u001b[38;5;124mmodule \u001b[39m\u001b[38;5;132;01m{!r}\u001b[39;00m\u001b[38;5;124m has no attribute \u001b[39m\u001b[38;5;124m\"\u001b[39m\n\u001b[0;32m    334\u001b[0m                      \u001b[38;5;124m\"\u001b[39m\u001b[38;5;132;01m{!r}\u001b[39;00m\u001b[38;5;124m\"\u001b[39m\u001b[38;5;241m.\u001b[39mformat(\u001b[38;5;18m__name__\u001b[39m, attr))\n",
      "\u001b[1;31mAttributeError\u001b[0m: module 'numpy' has no attribute 'vasuhblah'"
     ]
    }
   ],
   "source": [
    "import numpy as np\n",
    "\n",
    "print(type(np.vasuhblah))"
   ]
  },
  {
   "cell_type": "markdown",
   "id": "bb66038b-2951-4e22-8c2c-118569aaed30",
   "metadata": {},
   "source": [
    "To test if function is a ufunc is in an if statement ,use the 'numpy.ufunc' value(np.ufunc if you use np as an alias for numpy)"
   ]
  },
  {
   "cell_type": "code",
   "execution_count": 103,
   "id": "fdeafc11-e046-4138-846f-e825c3503f1e",
   "metadata": {},
   "outputs": [
    {
     "name": "stdout",
     "output_type": "stream",
     "text": [
      "yes it is\n"
     ]
    }
   ],
   "source": [
    "#using of statement\n",
    "\n",
    "if type(myadd)==np.ufunc:\n",
    "    print(\"yes it is\")\n",
    "else:\n",
    "    print(\"It is not\")"
   ]
  },
  {
   "cell_type": "code",
   "execution_count": null,
   "id": "bc93a433-0416-4746-8ba6-c8167a02605a",
   "metadata": {},
   "outputs": [],
   "source": [
    "\"Simple Arithemetic\""
   ]
  },
  {
   "cell_type": "markdown",
   "id": "b250a25c-6ffa-423e-aa65-cf043073f9e4",
   "metadata": {},
   "source": [
    "You could use arithmetic operators + - * / directly between NumPy arrays, but this section discusses an extension of the same where we have functions that can take any array-like objects e.g. lists, tuples etc. and perform 'arithmetic conditionally.'"
   ]
  },
  {
   "cell_type": "markdown",
   "id": "3bb73257-5a22-4e5b-a186-6c979137f8e0",
   "metadata": {},
   "source": [
    "Arithematic Conditionally:means we can define conditions where the arithematic opearation should happen."
   ]
  },
  {
   "cell_type": "markdown",
   "id": "10ef5663-08c9-4f84-898e-64e651b260f7",
   "metadata": {},
   "source": [
    "All of the discussed arithmetic functions take a 'where' parameter in which we can specify that condition."
   ]
  },
  {
   "cell_type": "code",
   "execution_count": null,
   "id": "bfd98abd-e2a3-4caa-9683-aba408f5b046",
   "metadata": {},
   "outputs": [],
   "source": [
    "\"Addition\""
   ]
  },
  {
   "cell_type": "markdown",
   "id": "289d256b-8329-4c1c-9c9c-d84032333788",
   "metadata": {},
   "source": [
    "the 'add()' function sums the content of two arrays and return the results in a new array"
   ]
  },
  {
   "cell_type": "code",
   "execution_count": 110,
   "id": "4369c189-6ba0-4644-9315-c5db36554d78",
   "metadata": {},
   "outputs": [
    {
     "name": "stdout",
     "output_type": "stream",
     "text": [
      "[ 4  6  8 11 13 14]\n"
     ]
    }
   ],
   "source": [
    "arr1=np.array([1,2,3,5,6,6])\n",
    "arr2=np.array([3,4,5,6,7,8])\n",
    "newarr=np.add(arr1,arr2)\n",
    "print(newarr)"
   ]
  },
  {
   "cell_type": "code",
   "execution_count": null,
   "id": "664df174-e9f3-4096-a8b8-e2ef766af136",
   "metadata": {},
   "outputs": [],
   "source": [
    "\"Subtraction\""
   ]
  },
  {
   "cell_type": "markdown",
   "id": "a4cef98d-56ee-45cd-96dd-7391271e7827",
   "metadata": {},
   "source": [
    "The 'subtract()' function subtracts the values from one array with the values from another array, and return the results in a new array."
   ]
  },
  {
   "cell_type": "code",
   "execution_count": 113,
   "id": "8b3d0427-ad2c-4134-8d5c-bb9ecefcde6b",
   "metadata": {},
   "outputs": [
    {
     "name": "stdout",
     "output_type": "stream",
     "text": [
      "[-2 -2 -2 -1 -1 -2]\n"
     ]
    }
   ],
   "source": [
    "arr1=np.array([1,2,3,5,6,6])\n",
    "arr2=np.array([3,4,5,6,7,8])\n",
    "newarr=np.subtract(arr1,arr2)\n",
    "print(newarr)"
   ]
  },
  {
   "cell_type": "code",
   "execution_count": null,
   "id": "dc248786-7447-446b-8be8-5eb37fbeddc9",
   "metadata": {},
   "outputs": [],
   "source": [
    "'Multiplication'"
   ]
  },
  {
   "cell_type": "markdown",
   "id": "ff04720d-f864-4390-8bfc-b952e3980f03",
   "metadata": {},
   "source": [
    "The multiply() function multiplies the values from one array with the values from another array, and return the results in a new array."
   ]
  },
  {
   "cell_type": "code",
   "execution_count": 116,
   "id": "6e4d97f5-5c0c-4681-b715-cfbd26a761b6",
   "metadata": {},
   "outputs": [
    {
     "name": "stdout",
     "output_type": "stream",
     "text": [
      "[ 3  8 15 30 42 48]\n"
     ]
    }
   ],
   "source": [
    "arr1=np.array([1,2,3,5,6,6])\n",
    "arr2=np.array([3,4,5,6,7,8])\n",
    "newarr=np.multiply(arr1,arr2)\n",
    "print(newarr)"
   ]
  },
  {
   "cell_type": "code",
   "execution_count": null,
   "id": "aa046c33-c803-4d5e-b279-4879bb386b25",
   "metadata": {},
   "outputs": [],
   "source": [
    "'Division'"
   ]
  },
  {
   "cell_type": "markdown",
   "id": "9f4b48fe-8c42-4317-8c58-c2d42cc6a330",
   "metadata": {},
   "source": [
    "The divide() function divides the values from one array with the values from another array, and return the results in a new array."
   ]
  },
  {
   "cell_type": "code",
   "execution_count": 119,
   "id": "f9056138-eeb3-4d96-9c8b-8bc784a9cf95",
   "metadata": {},
   "outputs": [
    {
     "name": "stdout",
     "output_type": "stream",
     "text": [
      "[0.33333333 0.5        0.6        0.83333333 0.85714286 0.75      ]\n"
     ]
    }
   ],
   "source": [
    "arr1=np.array([1,2,3,5,6,6])\n",
    "arr2=np.array([3,4,5,6,7,8])\n",
    "newarr=np.divide(arr1,arr2)\n",
    "print(newarr)"
   ]
  },
  {
   "cell_type": "code",
   "execution_count": 121,
   "id": "13ed97f8-c5f8-45b3-9aff-f9267a2bc626",
   "metadata": {},
   "outputs": [
    {
     "name": "stdout",
     "output_type": "stream",
     "text": [
      "[[0.33333333 0.66666667 1.         1.66666667 2.         2.        ]\n",
      " [0.25       0.5        0.75       1.25       1.5        1.5       ]\n",
      " [0.2        0.4        0.6        1.         1.2        1.2       ]\n",
      " [0.16666667 0.33333333 0.5        0.83333333 1.         1.        ]\n",
      " [0.14285714 0.28571429 0.42857143 0.71428571 0.85714286 0.85714286]\n",
      " [0.125      0.25       0.375      0.625      0.75       0.75      ]]\n"
     ]
    }
   ],
   "source": [
    "arr1=np.array([1,2,3,5,6,6])\n",
    "arr2=np.array([[3],[4],[5],[6],[7],[8]])\n",
    "newarr=np.divide(arr1,arr2)\n",
    "print(newarr)\n",
    "\n",
    "#we can do any shape or any dimention"
   ]
  },
  {
   "cell_type": "code",
   "execution_count": null,
   "id": "9388c541-b5ff-41b3-aa02-341519f31be5",
   "metadata": {},
   "outputs": [],
   "source": [
    "'power'"
   ]
  },
  {
   "cell_type": "markdown",
   "id": "339c5305-d125-428e-9dcc-c0a3bd30a967",
   "metadata": {},
   "source": [
    "The power() function rises the values from the first array to the power of the values of the second array, and return the results in a new array."
   ]
  },
  {
   "cell_type": "code",
   "execution_count": 124,
   "id": "2782fce9-bc86-4f88-8a06-c1ccc3306428",
   "metadata": {},
   "outputs": [
    {
     "name": "stdout",
     "output_type": "stream",
     "text": [
      "[      1      16     243   15625  279936 1679616]\n"
     ]
    }
   ],
   "source": [
    "arr1=np.array([1,2,3,5,6,6])\n",
    "arr2=np.array([3,4,5,6,7,8])\n",
    "newarr=np.power(arr1,arr2)\n",
    "print(newarr) # it will takes first array as elements= and second array as power of that element"
   ]
  },
  {
   "cell_type": "code",
   "execution_count": null,
   "id": "acdb9302-8531-424f-890f-5e6dec07a61f",
   "metadata": {},
   "outputs": [],
   "source": [
    "\"Remainder\""
   ]
  },
  {
   "cell_type": "markdown",
   "id": "fbf73c6c-6386-4ba4-99f5-1f4e71fddf93",
   "metadata": {},
   "source": [
    "Both the mod() and the remainder() functions return the remainder of the values in the first array corresponding to the values in the second array, and return the results in a new array."
   ]
  },
  {
   "cell_type": "code",
   "execution_count": 129,
   "id": "5e748757-630a-4bcb-9449-19fbf987ee7a",
   "metadata": {},
   "outputs": [
    {
     "name": "stdout",
     "output_type": "stream",
     "text": [
      "[ 1  6  3  0  0 27]\n"
     ]
    }
   ],
   "source": [
    "import numpy as np\n",
    "\n",
    "arr1 = np.array([10, 20, 30, 40, 50, 60])\n",
    "arr2 = np.array([3, 7, 9, 8, 2, 33])\n",
    "\n",
    "newarr = np.mod(arr1, arr2)\n",
    "\n",
    "print(newarr)\n",
    "\n",
    "#here first array as numerator and second as denomenator and gets remainder only"
   ]
  },
  {
   "cell_type": "code",
   "execution_count": 131,
   "id": "74b73913-30c2-4b9b-af3c-cf80d620be51",
   "metadata": {},
   "outputs": [
    {
     "name": "stdout",
     "output_type": "stream",
     "text": [
      "[ 1  6  3  0  0 27]\n"
     ]
    }
   ],
   "source": [
    "\n",
    "arr1 = np.array([10, 20, 30, 40, 50, 60])\n",
    "arr2 = np.array([3, 7, 9, 8, 2, 33])\n",
    "\n",
    "newarr = np.remainder(arr1, arr2)\n",
    "\n",
    "print(newarr)"
   ]
  },
  {
   "cell_type": "code",
   "execution_count": null,
   "id": "803ba7ef-628f-4473-8e70-19e0e00e1463",
   "metadata": {},
   "outputs": [],
   "source": [
    "'Quotient and Mod'"
   ]
  },
  {
   "cell_type": "markdown",
   "id": "66dbd40a-aebc-4a28-b1de-8363eff92054",
   "metadata": {},
   "source": [
    "The divmod() function return both the quotient and the mod. The return value is two arrays, the first array contains the quotient and second array contains the mod.\n"
   ]
  },
  {
   "cell_type": "code",
   "execution_count": 134,
   "id": "ce7bac9c-ecba-4127-a402-748b809e59c9",
   "metadata": {},
   "outputs": [
    {
     "name": "stdout",
     "output_type": "stream",
     "text": [
      "(array([ 3,  2,  3,  5, 25,  1]), array([ 1,  6,  3,  0,  0, 27]))\n"
     ]
    }
   ],
   "source": [
    "arr1 = np.array([10, 20, 30, 40, 50, 60])\n",
    "arr2 = np.array([3, 7, 9, 8, 2, 33])\n",
    "\n",
    "newarr = np.divmod(arr1, arr2)\n",
    "\n",
    "print(newarr) #here we get first array as quotients amd second array as remainders"
   ]
  },
  {
   "cell_type": "code",
   "execution_count": null,
   "id": "ccafe542-7a4d-4fd3-95fa-78977cd9fc2e",
   "metadata": {},
   "outputs": [],
   "source": [
    "'Absolute Values'"
   ]
  },
  {
   "cell_type": "markdown",
   "id": "b44e0cf7-e371-4e43-bcbf-798b93c8ebc9",
   "metadata": {},
   "source": [
    "Both the absolute() and the abs() functions do the same absolute operation element-wise but we should use absolute() to avoid confusion with python's inbuilt math.abs()"
   ]
  },
  {
   "cell_type": "code",
   "execution_count": 141,
   "id": "f3c81281-8f83-46f1-a534-46c1b065ef53",
   "metadata": {},
   "outputs": [
    {
     "name": "stdout",
     "output_type": "stream",
     "text": [
      "[2 3 3 4 5 3]\n"
     ]
    }
   ],
   "source": [
    "arr=np.array([-2,-3,3,4,5,-3])\n",
    "newarr=np.absolute(arr)\n",
    "print(newarr)"
   ]
  },
  {
   "cell_type": "code",
   "execution_count": null,
   "id": "5880dac3-d5c0-4a65-a3b8-c577ace7a942",
   "metadata": {},
   "outputs": [],
   "source": [
    "\"Rounding Decimals\""
   ]
  },
  {
   "cell_type": "code",
   "execution_count": null,
   "id": "029d396f-dc61-403f-9aea-2f64798b689c",
   "metadata": {},
   "outputs": [],
   "source": [
    "there are primarly five ways of rounding off decimals in Numpy:\n",
    "\n",
    "1.truncation\n",
    "2.fix\n",
    "3.rounding\n",
    "4.floor\n",
    "5.ceil"
   ]
  },
  {
   "cell_type": "code",
   "execution_count": null,
   "id": "42072ac3-ea9a-439d-80e4-c1fe1af24f2f",
   "metadata": {},
   "outputs": [],
   "source": [
    "'truncation'"
   ]
  },
  {
   "cell_type": "markdown",
   "id": "45020add-dfb8-490a-8c1a-6e0accc1fb15",
   "metadata": {},
   "source": [
    "Remove the decimals, and return the float number closest to zero. Use the trunc() and fix() functions."
   ]
  },
  {
   "cell_type": "code",
   "execution_count": 144,
   "id": "de6b7de2-d736-4301-99c1-e952b2b12905",
   "metadata": {},
   "outputs": [
    {
     "name": "stdout",
     "output_type": "stream",
     "text": [
      "[-23.   3.]\n"
     ]
    }
   ],
   "source": [
    "arr=np.trunc([-23.4234,3.2324])\n",
    "print(arr)"
   ]
  },
  {
   "cell_type": "code",
   "execution_count": 146,
   "id": "0fdfe247-1eed-49cc-b7b8-a045ea3ecf69",
   "metadata": {},
   "outputs": [
    {
     "name": "stdout",
     "output_type": "stream",
     "text": [
      "[-234.    5.]\n"
     ]
    }
   ],
   "source": [
    "arr=np.fix([-234.442435,5.35353])\n",
    "print(arr)"
   ]
  },
  {
   "cell_type": "code",
   "execution_count": null,
   "id": "a5f51582-7c86-4c4d-871c-814ee70fbd51",
   "metadata": {},
   "outputs": [],
   "source": [
    "'rounding'"
   ]
  },
  {
   "cell_type": "markdown",
   "id": "28aeb759-06ff-4677-891a-323dde09049d",
   "metadata": {},
   "source": [
    "The around() function increments preceding digit or decimal by 1 if >=5 else do nothing."
   ]
  },
  {
   "cell_type": "markdown",
   "id": "26fdecdb-f909-4cb9-8e99-f6e8a84e2b20",
   "metadata": {},
   "source": [
    "E.g. round off to 1 decimal point, 3.16666 is 3.2"
   ]
  },
  {
   "cell_type": "code",
   "execution_count": 154,
   "id": "a9e1a9c9-d54a-4097-8818-1d3e72b96453",
   "metadata": {},
   "outputs": [
    {
     "name": "stdout",
     "output_type": "stream",
     "text": [
      "3.325\n"
     ]
    }
   ],
   "source": [
    "arr=np.around(3.32463,3)#Round off 3.1666 to 2 decimal places:\n",
    "print(arr)"
   ]
  },
  {
   "cell_type": "code",
   "execution_count": null,
   "id": "3f391df5-7050-4c80-8502-d2e3315a9db3",
   "metadata": {},
   "outputs": [],
   "source": [
    "'floor'"
   ]
  },
  {
   "cell_type": "markdown",
   "id": "3fe8c660-22eb-4ae8-a2ec-1e5748511dac",
   "metadata": {},
   "source": [
    "The floor() function rounds off decimal to nearest lower integer.\n",
    "\n",
    "E.g. floor of 3.166 is 3."
   ]
  },
  {
   "cell_type": "code",
   "execution_count": 157,
   "id": "964d177f-46f0-4e7b-9829-d1f33ba1f135",
   "metadata": {},
   "outputs": [
    {
     "name": "stdout",
     "output_type": "stream",
     "text": [
      "[  23. 4242.]\n"
     ]
    }
   ],
   "source": [
    "arr=np.floor([23.3424,4242.424])\n",
    "print(arr)"
   ]
  },
  {
   "cell_type": "code",
   "execution_count": null,
   "id": "a6110ac4-6f13-4c93-a731-c0515d55f5ca",
   "metadata": {},
   "outputs": [],
   "source": [
    "'Ceil'"
   ]
  },
  {
   "cell_type": "markdown",
   "id": "0f1c25f9-f1c8-45e5-a1bd-a44114935bab",
   "metadata": {},
   "source": [
    "The ceil() function rounds off decimal to nearest upper integer.\n",
    "\n",
    "E.g. ceil of 3.166 is 4.\n",
    "\n",
    "Example"
   ]
  },
  {
   "cell_type": "code",
   "execution_count": 160,
   "id": "2e28b54c-eec3-426a-bf33-14c8b6509f1b",
   "metadata": {},
   "outputs": [
    {
     "name": "stdout",
     "output_type": "stream",
     "text": [
      "[133.  36.]\n"
     ]
    }
   ],
   "source": [
    "arr=np.ceil([132.4424,35.35])\n",
    "print(arr)"
   ]
  },
  {
   "cell_type": "code",
   "execution_count": null,
   "id": "cab401b2-55ea-40ec-a389-9192af345a00",
   "metadata": {},
   "outputs": [],
   "source": [
    "\"NumPy Logs\""
   ]
  },
  {
   "cell_type": "markdown",
   "id": "65e90b81-f7c2-4938-865e-fc48a3e7718f",
   "metadata": {},
   "source": [
    "numPy provides a functions to perform log at the base 2, e and 10.\n",
    "\n",
    "we will also explore how we can take log for any base by creating a custom ufunc.\n",
    "\n",
    "all the log functions will place -inf or inf in the elements if the log can not be computed."
   ]
  },
  {
   "cell_type": "code",
   "execution_count": null,
   "id": "e2860e39-5871-4813-b777-4870c7bff170",
   "metadata": {},
   "outputs": [],
   "source": [
    "\"Log at Base 2\""
   ]
  },
  {
   "cell_type": "markdown",
   "id": "22f46a37-757b-44b8-a76b-78b45978f7b3",
   "metadata": {},
   "source": [
    "use the log2() function to perform log at the base 2."
   ]
  },
  {
   "cell_type": "code",
   "execution_count": 164,
   "id": "374808d1-3be5-4d2b-87e6-03618b362187",
   "metadata": {},
   "outputs": [
    {
     "name": "stdout",
     "output_type": "stream",
     "text": [
      "[0.         1.         1.5849625  2.         2.32192809 2.5849625\n",
      " 2.80735492 3.         3.169925  ]\n"
     ]
    }
   ],
   "source": [
    "arr=np.arange(1,10)\n",
    "print(np.log2(arr))"
   ]
  },
  {
   "cell_type": "markdown",
   "id": "70c21e42-42ec-4ce1-8ef3-d42bd409e2e1",
   "metadata": {},
   "source": [
    "Note: The arange(1, 10) function returns an array with integers starting from 1 (included) to 10 (not included)."
   ]
  },
  {
   "cell_type": "code",
   "execution_count": null,
   "id": "7abd5f58-6bd0-4f37-aeee-ac913c89ddd4",
   "metadata": {},
   "outputs": [],
   "source": [
    "\"Log at Base 10\""
   ]
  },
  {
   "cell_type": "markdown",
   "id": "ca8be4a3-9aad-4cd4-a622-012fb769e74f",
   "metadata": {},
   "source": [
    "Use the log10() function to perform log at the base 10."
   ]
  },
  {
   "cell_type": "code",
   "execution_count": 170,
   "id": "71a4fd53-ad03-4ad8-a8ab-9414be37ee74",
   "metadata": {},
   "outputs": [
    {
     "name": "stdout",
     "output_type": "stream",
     "text": [
      "[0.         0.30103    0.47712125 0.60205999 0.69897    0.77815125\n",
      " 0.84509804 0.90308999 0.95424251]\n"
     ]
    }
   ],
   "source": [
    "arr=np.arange(1,10)\n",
    "print(np.log10(arr))"
   ]
  },
  {
   "cell_type": "code",
   "execution_count": null,
   "id": "4fb105f0-82a3-480e-8885-e5cb94e27ba3",
   "metadata": {},
   "outputs": [],
   "source": [
    "\"Natural Log, or Log at Base e\""
   ]
  },
  {
   "cell_type": "markdown",
   "id": "189fd1d9-4ae4-44e8-a210-da29d1c2c666",
   "metadata": {},
   "source": [
    "Use the log() function to perform log at the base e."
   ]
  },
  {
   "cell_type": "code",
   "execution_count": 173,
   "id": "8979ff41-4de0-42d4-b8c2-d072d4b2062d",
   "metadata": {},
   "outputs": [
    {
     "name": "stdout",
     "output_type": "stream",
     "text": [
      "[0.         0.69314718 1.09861229 1.38629436 1.60943791 1.79175947\n",
      " 1.94591015 2.07944154 2.19722458 2.30258509 2.39789527 2.48490665\n",
      " 2.56494936 2.63905733 2.7080502  2.77258872 2.83321334 2.89037176\n",
      " 2.94443898]\n"
     ]
    }
   ],
   "source": [
    "arr=np.arange(1,20)\n",
    "print(np.log(arr))"
   ]
  },
  {
   "cell_type": "code",
   "execution_count": null,
   "id": "1699a972-7e8a-493d-bb46-944858b26e24",
   "metadata": {},
   "outputs": [],
   "source": [
    "\"Log at Any Base\""
   ]
  },
  {
   "cell_type": "markdown",
   "id": "b74b61d5-b5be-46b9-95a6-ee8934b6048b",
   "metadata": {},
   "source": [
    "NumPy does not provide any function to take log at any base ,so we use the frompyfunc() function along with inbuilt function math.log() with two input parameters and one output parameters"
   ]
  },
  {
   "cell_type": "code",
   "execution_count": 212,
   "id": "2b015e5e-6fc1-433f-8580-c45a12bc8567",
   "metadata": {},
   "outputs": [
    {
     "name": "stdout",
     "output_type": "stream",
     "text": [
      "1.7005483074552052\n"
     ]
    }
   ],
   "source": [
    "from math import log\n",
    "import numpy as np\n",
    "nplog=np.frompyfunc(log,2,1) # log means opeartoin to perform and2 means two inputs and 1 means output\n",
    "print(nplog(100,15)) #here 100 with base 15"
   ]
  },
  {
   "cell_type": "code",
   "execution_count": 218,
   "id": "9674c069-a457-4420-ac7c-c391ebdf7ebd",
   "metadata": {},
   "outputs": [
    {
     "name": "stdout",
     "output_type": "stream",
     "text": [
      "3.3219280948873626\n"
     ]
    }
   ],
   "source": [
    "nplog=np.frompyfunc(log,2,1) # log means opeartoin to perform and2 means two inputs and 1 means output\n",
    "print(nplog(10,2))"
   ]
  },
  {
   "cell_type": "code",
   "execution_count": null,
   "id": "e83f45c0-224f-4088-b351-63f333c5601c",
   "metadata": {},
   "outputs": [],
   "source": [
    "\"NumPy Summations\""
   ]
  },
  {
   "cell_type": "markdown",
   "id": "90c6a299-bc9f-4824-bfb6-c592eab72846",
   "metadata": {},
   "source": [
    "the main difference between summation and addition is\n",
    "\n",
    "adition will perform with in two arguements whereas summation happens over n elements."
   ]
  },
  {
   "cell_type": "code",
   "execution_count": 223,
   "id": "d1389486-39a7-461c-81db-eabcdbbcd57f",
   "metadata": {},
   "outputs": [
    {
     "name": "stdout",
     "output_type": "stream",
     "text": [
      "[24  6  8 10 12 94  8]\n"
     ]
    }
   ],
   "source": [
    "import numpy as np\n",
    "\n",
    "arr1=np.array([1,2,3,4,5,6,6])\n",
    "arr2=np.array([23,4,5,6,7,88,2])\n",
    "newarr=np.add(arr1,arr2)\n",
    "print(newarr)"
   ]
  },
  {
   "cell_type": "code",
   "execution_count": null,
   "id": "c1745a40-16de-47ae-9b06-4ed452edc807",
   "metadata": {},
   "outputs": [],
   "source": [
    "'sum'"
   ]
  },
  {
   "cell_type": "code",
   "execution_count": 229,
   "id": "dc5082b4-a24e-48dd-9d48-c7d87cc9ac8b",
   "metadata": {},
   "outputs": [
    {
     "name": "stdout",
     "output_type": "stream",
     "text": [
      "162\n"
     ]
    }
   ],
   "source": [
    "import numpy as np\n",
    "\n",
    "arr1=np.array([1,2,3,4,5,6,6])\n",
    "arr2=np.array([23,4,5,6,7,88,2])\n",
    "newarr=np.sum([arr1,arr2])\n",
    "print(newarr)"
   ]
  },
  {
   "cell_type": "code",
   "execution_count": null,
   "id": "d4ba62bd-ad58-4b91-9178-d9f42377153d",
   "metadata": {},
   "outputs": [],
   "source": [
    "\"Summation Over an Axis\""
   ]
  },
  {
   "cell_type": "markdown",
   "id": "2422b5cd-2bbe-43a6-ba36-3c51f55355af",
   "metadata": {},
   "source": [
    "if you specify 'axis=1', NumPy will sum the numbers in each in each array.\n",
    "\n",
    "In NumPy, the concept of an \"axis\" is used to specify the direction along which operations are performed on arrays. NumPy arrays can have multiple dimensions, and the axis parameter helps define which dimension you want to apply a function or operation to.\n",
    "\n",
    "Here's how the axis works:\n",
    "\n",
    "Axis 0: Refers to the first dimension (rows in a 2D array). Operations along axis 0 are applied column-wise.\n",
    "Axis 1: Refers to the second dimension (columns in a 2D array). Operations along axis 1 are applied row-wise.\n",
    "Axis 2, 3, ...: For higher-dimensional arrays, these refer to the subsequent dimensions."
   ]
  },
  {
   "cell_type": "code",
   "execution_count": 242,
   "id": "c89e8668-752f-450f-8bfe-de17d68d0568",
   "metadata": {},
   "outputs": [
    {
     "name": "stdout",
     "output_type": "stream",
     "text": [
      "[17  9]\n"
     ]
    }
   ],
   "source": [
    "arr1=np.array([12,2,3])\n",
    "arr2=np.array([2,3,4])\n",
    "newarr=np.sum([arr1,arr2],axis=1) #here axis=0 means rows thorugh rpws of values should be sum\n",
    "print(newarr)"
   ]
  },
  {
   "cell_type": "code",
   "execution_count": null,
   "id": "5f374481-f80a-403f-940c-f786b7fd352e",
   "metadata": {},
   "outputs": [],
   "source": [
    "\"Cummulative Sum\""
   ]
  },
  {
   "cell_type": "markdown",
   "id": "ae42305e-497a-47e3-ac25-d829e41716d2",
   "metadata": {},
   "source": [
    "cummulative sum means partially adding the elememts in an array\n",
    "\n",
    "E.g. The partial sum of [1, 2, 3, 4] would be [1, 1+2, 1+2+3, 1+2+3+4] = [1, 3, 6, 10].\n",
    "\n",
    "perform partial sum with cumsum() function"
   ]
  },
  {
   "cell_type": "code",
   "execution_count": 247,
   "id": "4f1329e9-5f62-410e-9bae-415175224dd0",
   "metadata": {},
   "outputs": [
    {
     "name": "stdout",
     "output_type": "stream",
     "text": [
      "[ 1  3  6 10]\n"
     ]
    }
   ],
   "source": [
    "arr=np.array([1,2,3,4])\n",
    "print(np.cumsum(arr))"
   ]
  },
  {
   "cell_type": "code",
   "execution_count": null,
   "id": "3fa711c0-1d91-48af-8482-460aeb84dd50",
   "metadata": {},
   "outputs": [],
   "source": [
    "\"NumPy products\""
   ]
  },
  {
   "cell_type": "markdown",
   "id": "75935109-fcd4-421f-aeea-39b20d4d113f",
   "metadata": {},
   "source": [
    "to product of the elements in an array ,use the prod() function."
   ]
  },
  {
   "cell_type": "code",
   "execution_count": 250,
   "id": "cddd9ef1-bcc4-4a2b-a7fa-9da4359e423e",
   "metadata": {},
   "outputs": [
    {
     "name": "stdout",
     "output_type": "stream",
     "text": [
      "8064\n"
     ]
    }
   ],
   "source": [
    "arr=np.array([2,3,4,56,6])#2*3*4*56*6\n",
    "print(np.prod(arr))"
   ]
  },
  {
   "cell_type": "code",
   "execution_count": 252,
   "id": "4e5079ab-292e-4113-83fd-d45cb39dba23",
   "metadata": {},
   "outputs": [
    {
     "name": "stdout",
     "output_type": "stream",
     "text": [
      "9216\n"
     ]
    }
   ],
   "source": [
    "#with two array\n",
    "\n",
    "arr1=np.array([1,2,3,4]) #1*2*3*4*2*4*6*8\n",
    "arr2=np.array([2,4,6,8])\n",
    "newarr=np.prod([arr1,arr2])\n",
    "print(newarr)"
   ]
  },
  {
   "cell_type": "code",
   "execution_count": null,
   "id": "a9b6b5e4-1ba2-4ef5-b943-93f751027ccd",
   "metadata": {},
   "outputs": [],
   "source": [
    "\"Product over an Axis\""
   ]
  },
  {
   "cell_type": "markdown",
   "id": "de9e7431-6edc-465c-8722-a09de87e70cf",
   "metadata": {},
   "source": [
    "if you specify axis=1 ,NumPy return the product o each array."
   ]
  },
  {
   "cell_type": "code",
   "execution_count": 255,
   "id": "4e77adb8-410c-4463-99b6-57ae6e03e518",
   "metadata": {},
   "outputs": [
    {
     "name": "stdout",
     "output_type": "stream",
     "text": [
      "[ 2  8 18 32]\n"
     ]
    }
   ],
   "source": [
    "arr1=np.array([1,2,3,4]) #1*2,2*4,3*6,4*8\n",
    "arr2=np.array([2,4,6,8])\n",
    "newarr=np.prod([arr1,arr2],axis=0) #irt will product cloumns\n",
    "print(newarr)"
   ]
  },
  {
   "cell_type": "code",
   "execution_count": 263,
   "id": "726713ce-d6ae-45d5-b93c-ca30fc431865",
   "metadata": {},
   "outputs": [
    {
     "name": "stdout",
     "output_type": "stream",
     "text": [
      "[ 24 384 384]\n"
     ]
    }
   ],
   "source": [
    "arr1=np.array([1,2,3,4]) #1*2*3*4,2*4*6*8\n",
    "arr2=np.array([2,4,6,8])\n",
    "#rows thorugh product\n",
    "newarr=np.prod([arr1,arr2],axis=1)\n",
    "print(newarr)"
   ]
  },
  {
   "cell_type": "code",
   "execution_count": 267,
   "id": "a92226f3-99e3-4761-ae30-4dc04d8182bd",
   "metadata": {},
   "outputs": [
    {
     "name": "stdout",
     "output_type": "stream",
     "text": [
      "[ 24 384]\n"
     ]
    }
   ],
   "source": [
    "arr1=np.array([1,2,3,4]) #1*2*3*4*2*4*6*8\n",
    "arr2=np.array([2,4,6,8])\n",
    "newarr=np.prod([arr1,arr2],axis=1)\n",
    "print(newarr)"
   ]
  },
  {
   "cell_type": "code",
   "execution_count": null,
   "id": "bda3410e-c086-4294-91b2-25e70f3b3ed4",
   "metadata": {},
   "outputs": [],
   "source": [
    "\"cummulative product\""
   ]
  },
  {
   "cell_type": "markdown",
   "id": "155de1e7-2d37-40e8-85cb-acbc94b61829",
   "metadata": {},
   "source": [
    "Cummulative Product\n",
    "Cummulative product means taking the product partially.\n",
    "\n",
    "E.g. The partial product of [1, 2, 3, 4] is [1, 1*2, 1*2*3, 1*2*3*4] = [1, 2, 6, 24]\n",
    "\n",
    "Perfom partial sum with the cumprod() function."
   ]
  },
  {
   "cell_type": "code",
   "execution_count": 270,
   "id": "f749f5e3-a913-4d1c-bb52-b69c61944275",
   "metadata": {},
   "outputs": [
    {
     "name": "stdout",
     "output_type": "stream",
     "text": [
      "[ 1  2  8 40]\n"
     ]
    }
   ],
   "source": [
    "arr=np.array([1,2,4,5])\n",
    "print(np.cumprod(arr))"
   ]
  },
  {
   "cell_type": "code",
   "execution_count": null,
   "id": "097f79ca-d0ef-4ff4-9f69-f06e87616448",
   "metadata": {},
   "outputs": [],
   "source": [
    "\"NumPy Differences\""
   ]
  },
  {
   "cell_type": "markdown",
   "id": "e0c1a776-55e6-44d4-ab6a-17253857639d",
   "metadata": {},
   "source": [
    " A discrete difference means substracting two successive elements.\n",
    "\n",
    "     A discrete difference means subtracting two successive elements.\n",
    "\n",
    "E.g. for [1, 2, 3, 4], the discrete difference would be [2-1, 3-2, 4-3] = [1, 1, 1]\n",
    "\n",
    "To find the discrete difference, use the diff() function.\n"
   ]
  },
  {
   "cell_type": "code",
   "execution_count": 281,
   "id": "647084ae-1d11-4cc8-a6cc-1ea012e5c39f",
   "metadata": {},
   "outputs": [
    {
     "name": "stdout",
     "output_type": "stream",
     "text": [
      "[-2  1  1]\n"
     ]
    }
   ],
   "source": [
    "\n",
    "arr1=np.array([4,2,3,4])#2-4,3-2,4-3\n",
    "newarr=np.diff(arr1)\n",
    "print(newarr)"
   ]
  },
  {
   "cell_type": "markdown",
   "id": "2d9db73e-5744-46b8-a3ed-14bc67d70c6b",
   "metadata": {},
   "source": [
    "We can perform this operation repeatedly by giving parameter n.\n",
    "\n",
    "E.g. for [1, 2, 3, 4], the discrete difference with n = 2 would be [2-1, 3-2, 4-3] = [1, 1, 1] , then, since n=2, we will do it once more, with the new result: [1-1, 1-1] = [0, 0]"
   ]
  },
  {
   "cell_type": "code",
   "execution_count": 286,
   "id": "843fe2cb-2c35-49b3-ba60-3e2ff525dfc9",
   "metadata": {},
   "outputs": [
    {
     "name": "stdout",
     "output_type": "stream",
     "text": [
      "[0 2]\n"
     ]
    }
   ],
   "source": [
    "arr=np.array([2,3,4,7])#(1,1,3)->(0,2)\n",
    "newarr=np.diff(arr,n=2) #it will perform 3 times substrct\n",
    "print(newarr)"
   ]
  },
  {
   "cell_type": "code",
   "execution_count": null,
   "id": "888315a6-da54-41af-998d-b84c1f711da3",
   "metadata": {},
   "outputs": [],
   "source": [
    "\"Finding LCM (Lowest Common Multiple)\""
   ]
  },
  {
   "cell_type": "markdown",
   "id": "1c7ad630-91bb-44cb-af2a-3ef87cb1fb3d",
   "metadata": {},
   "source": [
    "the lowest common Multiple is the smallest number that is a common multiple of two numbers."
   ]
  },
  {
   "cell_type": "code",
   "execution_count": 3,
   "id": "9793daa6-2479-476e-a6af-53caa242a155",
   "metadata": {},
   "outputs": [
    {
     "name": "stdout",
     "output_type": "stream",
     "text": [
      "8\n"
     ]
    }
   ],
   "source": [
    "import numpy as np\n",
    "# Find the LCM of of the following two numbers:\n",
    "num1=4\n",
    "num2=8\n",
    "x=np.lcm(num1,num2)\n",
    "print(x)"
   ]
  },
  {
   "cell_type": "code",
   "execution_count": null,
   "id": "62fd2737-bf0a-4d1e-bf5d-86e551596b4b",
   "metadata": {},
   "outputs": [],
   "source": [
    "\"Finding LCM Arrays\""
   ]
  },
  {
   "cell_type": "markdown",
   "id": "5eefc965-538b-487a-9335-174319b295ef",
   "metadata": {},
   "source": [
    "to Find the lowest common multiple of all values in an array,you can use the reduce() method."
   ]
  },
  {
   "cell_type": "code",
   "execution_count": null,
   "id": "c9219ce3-6147-46a2-8b85-c8ce5fb01242",
   "metadata": {},
   "outputs": [],
   "source": [
    "The reduce() function is a ufunc,in this case the lcm() function,on each element and reduce the array by one dimention."
   ]
  },
  {
   "cell_type": "code",
   "execution_count": 8,
   "id": "49831976-cda8-4f96-8712-923e2022bf78",
   "metadata": {},
   "outputs": [
    {
     "name": "stdout",
     "output_type": "stream",
     "text": [
      "36\n"
     ]
    }
   ],
   "source": [
    "arr=np.array([3,6,9,12])\n",
    "x=np.lcm.reduce(arr)\n",
    "print(x)"
   ]
  },
  {
   "cell_type": "code",
   "execution_count": 14,
   "id": "af3180b1-50a4-41b9-83df-bbb0f84e57ae",
   "metadata": {},
   "outputs": [
    {
     "name": "stdout",
     "output_type": "stream",
     "text": [
      "2520\n"
     ]
    }
   ],
   "source": [
    "# Find the LCM of all values of an array where the array contains all integers from 1 to 10:\n",
    "\n",
    "arr=np.arange(1,11)\n",
    "x=np.lcm.reduce(arr)\n",
    "print(x)"
   ]
  },
  {
   "cell_type": "code",
   "execution_count": null,
   "id": "03c6fac4-4dfe-4521-871f-e3a31f9a865f",
   "metadata": {},
   "outputs": [],
   "source": [
    "\"NumPy GCD Greatest Common Denominator\""
   ]
  },
  {
   "cell_type": "markdown",
   "id": "9d1b07bf-474d-4673-a9d3-9a57db9cc989",
   "metadata": {},
   "source": [
    "the greatest common denominator is also known as highest common factor(HCF) is the biggest number that is common factor of both of the numbers."
   ]
  },
  {
   "cell_type": "code",
   "execution_count": 17,
   "id": "741c67a4-38b6-4567-b2eb-938e8168347c",
   "metadata": {},
   "outputs": [
    {
     "name": "stdout",
     "output_type": "stream",
     "text": [
      "4\n"
     ]
    }
   ],
   "source": [
    "import numpy as np\n",
    "\n",
    "n1=12\n",
    "n2=16\n",
    "x=np.gcd(n1,n2)\n",
    "print(x)"
   ]
  },
  {
   "cell_type": "code",
   "execution_count": null,
   "id": "0fd93530-336b-4112-bd46-e5464733a822",
   "metadata": {},
   "outputs": [],
   "source": [
    "\"Finding GCD in Arrays\""
   ]
  },
  {
   "cell_type": "markdown",
   "id": "f2176cd3-e5d8-4581-95b9-083e27c4677f",
   "metadata": {},
   "source": [
    "To find the Highest Common Factor of all values in an array, you can use the reduce() method.\n",
    "\n",
    "The reduce() method will use the ufunc, in this case the gcd() function, on each element, and reduce the array by one dimension."
   ]
  },
  {
   "cell_type": "code",
   "execution_count": 20,
   "id": "3d24306c-bc08-400c-950f-c9a9295b9a17",
   "metadata": {},
   "outputs": [
    {
     "name": "stdout",
     "output_type": "stream",
     "text": [
      "2\n"
     ]
    }
   ],
   "source": [
    "arr=np.array([2,4,6,8,10])\n",
    "x=np.gcd.reduce(arr)\n",
    "print(x)"
   ]
  },
  {
   "cell_type": "code",
   "execution_count": null,
   "id": "e47e844d-4a79-4335-825f-5c732da2fa53",
   "metadata": {},
   "outputs": [],
   "source": [
    "\"NumPy Trignometric Functions\""
   ]
  },
  {
   "cell_type": "markdown",
   "id": "ef8a7a4c-8adf-47df-b27b-45eadebcc154",
   "metadata": {},
   "source": [
    "NumPy provides the ufunc sin().cos(),tan() that takes values in radians and produce the corresponding sin,cos,tan values"
   ]
  },
  {
   "cell_type": "code",
   "execution_count": 24,
   "id": "60fd0c38-cb19-4f91-9183-f232575c254f",
   "metadata": {},
   "outputs": [
    {
     "name": "stdout",
     "output_type": "stream",
     "text": [
      "1.0\n"
     ]
    }
   ],
   "source": [
    "# Find the sine value of PI/2\n",
    "x=np.sin(np.pi/2)\n",
    "print(x)"
   ]
  },
  {
   "cell_type": "code",
   "execution_count": 26,
   "id": "5ac28177-fc50-4531-83cd-8f7978a2e9ae",
   "metadata": {},
   "outputs": [
    {
     "name": "stdout",
     "output_type": "stream",
     "text": [
      "[1.         0.8660254  0.70710678]\n"
     ]
    }
   ],
   "source": [
    "# Find sine values for all of the values in arr:\n",
    "arr=np.array([np.pi/2,np.pi/3,np.pi/4])\n",
    "x=np.sin(arr)\n",
    "print(x)"
   ]
  },
  {
   "cell_type": "code",
   "execution_count": null,
   "id": "75849a16-0a29-44de-bb1f-5f85599d7730",
   "metadata": {},
   "outputs": [],
   "source": [
    "\"Convert Degrees Into Radians\""
   ]
  },
  {
   "cell_type": "markdown",
   "id": "5499036c-0ad6-4c0b-bd1e-7b0ee730eb22",
   "metadata": {},
   "source": [
    "By default all trignometric functions takes radians as parametrs but we can convert radains to degrees and vice versa as well in numpy."
   ]
  },
  {
   "cell_type": "markdown",
   "id": "8bcd8771-b38f-4474-8ea1-2dc12ae42a98",
   "metadata": {},
   "source": [
    "Note: radians values are pi/180 * degree_values."
   ]
  },
  {
   "cell_type": "code",
   "execution_count": 32,
   "id": "e2a1bd52-9cfb-4dc7-958d-66492863dd92",
   "metadata": {},
   "outputs": [
    {
     "name": "stdout",
     "output_type": "stream",
     "text": [
      "[1.57079633 3.14159265 4.71238898 6.28318531]\n"
     ]
    }
   ],
   "source": [
    "arr=np.array([90,180,270,360])\n",
    "x=np.deg2rad(arr)\n",
    "print(x)"
   ]
  },
  {
   "cell_type": "code",
   "execution_count": null,
   "id": "4fc3f777-c1f5-4a9d-8a43-64858bfbca0f",
   "metadata": {},
   "outputs": [],
   "source": [
    "\"Radians to Degrees\""
   ]
  },
  {
   "cell_type": "code",
   "execution_count": 36,
   "id": "9bf98675-9967-43ee-8420-d0d9fc168d10",
   "metadata": {},
   "outputs": [
    {
     "name": "stdout",
     "output_type": "stream",
     "text": [
      "[90. 60. 45.]\n"
     ]
    }
   ],
   "source": [
    "arr=np.array([np.pi/2,np.pi/3,np.pi/4])\n",
    "x=np.rad2deg(arr)\n",
    "print(x)"
   ]
  },
  {
   "cell_type": "code",
   "execution_count": null,
   "id": "947dcaa9-f136-42ed-ba5c-d31aeae8fb4a",
   "metadata": {},
   "outputs": [],
   "source": [
    "\"Finding Angles\""
   ]
  },
  {
   "cell_type": "markdown",
   "id": "8f688b2d-a26c-46ff-9baf-c1c7e96ec6b7",
   "metadata": {},
   "source": [
    "Finding angles from values of sine ,cos,tan E.g sin,cos,tan inverse (arcsin,arccos,arctan)\n",
    "\n",
    "NumPy provides ufunc arcsin(),arccos(),arctan() that produce radian values for corresponding sin,cos and tan values given."
   ]
  },
  {
   "cell_type": "code",
   "execution_count": 39,
   "id": "91c0f25d-8cdc-4668-9f68-97b79dfd0449",
   "metadata": {},
   "outputs": [
    {
     "name": "stdout",
     "output_type": "stream",
     "text": [
      "1.5707963267948966\n"
     ]
    }
   ],
   "source": [
    "# Find the angle of 1.0:\n",
    "x=np.arcsin(1.0)\n",
    "print(x)"
   ]
  },
  {
   "cell_type": "code",
   "execution_count": null,
   "id": "e7783cb4-a2a4-4f0d-ad3d-ab35fc82bac9",
   "metadata": {},
   "outputs": [],
   "source": [
    "\"Angles of Each Value in Arrays\""
   ]
  },
  {
   "cell_type": "code",
   "execution_count": 41,
   "id": "6b473672-85af-494b-92b3-2099d0087054",
   "metadata": {},
   "outputs": [
    {
     "name": "stdout",
     "output_type": "stream",
     "text": [
      "[-1.57079633  1.57079633  0.10016742]\n"
     ]
    }
   ],
   "source": [
    "arr=np.array([-1,1,0.1])\n",
    "x=np.arcsin(arr)\n",
    "print(x)"
   ]
  },
  {
   "cell_type": "code",
   "execution_count": null,
   "id": "0c4bf844-cf54-4576-beb8-53948d2241c6",
   "metadata": {},
   "outputs": [],
   "source": [
    "\"Hypotenues\""
   ]
  },
  {
   "cell_type": "markdown",
   "id": "d5231170-a1a5-49e5-bab6-6b4acce96015",
   "metadata": {},
   "source": [
    "finding hypotenues using Pythagoras theorem in NumPy.\n",
    "\n",
    "NumPu provides that hypot() function that takes the base and perpendicular values and produce hypotenues based on pythagoras theorem\n",
    "\n",
    "a^2=b^2+c^2 pythogoras theorem"
   ]
  },
  {
   "cell_type": "code",
   "execution_count": 44,
   "id": "6f165e7d-3946-4c4f-ad7c-0ebe1afa22e1",
   "metadata": {},
   "outputs": [
    {
     "name": "stdout",
     "output_type": "stream",
     "text": [
      "5.0\n"
     ]
    }
   ],
   "source": [
    "# Find the hypotenues for 4 base and 3 perpendicular:\n",
    "base=3\n",
    "perp=4\n",
    "x=np.hypot(base,perp)\n",
    "print(x)"
   ]
  },
  {
   "cell_type": "code",
   "execution_count": null,
   "id": "92e49604-6cbf-4a12-b006-a2298507c660",
   "metadata": {},
   "outputs": [],
   "source": [
    "\"NumPy hyperbolic Functions\""
   ]
  },
  {
   "cell_type": "markdown",
   "id": "496ac740-9f6c-403d-a2b8-cc1b2977b7db",
   "metadata": {},
   "source": [
    "NumPy provides the ufunc sinh(),cosh() and tanh() that takes values in radians and produce the corresponding sinh,cosh,tanh values."
   ]
  },
  {
   "cell_type": "code",
   "execution_count": 47,
   "id": "5538f02c-35ce-47cb-8fe0-b69e5749a276",
   "metadata": {},
   "outputs": [
    {
     "name": "stdout",
     "output_type": "stream",
     "text": [
      "2.3012989023072947\n"
     ]
    }
   ],
   "source": [
    "import numpy as np\n",
    "\n",
    "x = np.sinh(np.pi/2)\n",
    "\n",
    "print(x)"
   ]
  },
  {
   "cell_type": "code",
   "execution_count": 49,
   "id": "1401e31d-8b89-42c1-8614-dac16bc43d92",
   "metadata": {},
   "outputs": [
    {
     "name": "stdout",
     "output_type": "stream",
     "text": [
      "[2.50917848 1.60028686 1.32460909 1.20397209]\n"
     ]
    }
   ],
   "source": [
    "import numpy as np\n",
    "\n",
    "arr = np.array([np.pi/2, np.pi/3, np.pi/4, np.pi/5])\n",
    "\n",
    "x = np.cosh(arr)\n",
    "\n",
    "print(x)"
   ]
  },
  {
   "cell_type": "markdown",
   "id": "5a9bbf7b-074f-4a42-83d8-7d2189c9822b",
   "metadata": {},
   "source": [
    "\"Finding Angles\"\n",
    "\n",
    "Finding angles from values of hyperbolic sine, cos, tan. E.g. sinh, cosh and tanh inverse (arcsinh, arccosh, arctanh).\n",
    "\n",
    "Numpy provides ufuncs arcsinh(), arccosh() and arctanh() that produce radian values for corresponding sinh, cosh and tanh values given."
   ]
  },
  {
   "cell_type": "code",
   "execution_count": 52,
   "id": "02f7fbbe-b0d2-4f69-b1b8-e16ad52877c6",
   "metadata": {},
   "outputs": [
    {
     "name": "stdout",
     "output_type": "stream",
     "text": [
      "0.881373587019543\n"
     ]
    }
   ],
   "source": [
    "import numpy as np\n",
    "\n",
    "x = np.arcsinh(1.0)\n",
    "\n",
    "print(x)"
   ]
  },
  {
   "cell_type": "code",
   "execution_count": null,
   "id": "180a3e46-0bde-4e0e-a39d-fbb37660ade3",
   "metadata": {},
   "outputs": [],
   "source": [
    "\"Angles of Each Value in Arrays\n",
    "Example\""
   ]
  },
  {
   "cell_type": "code",
   "execution_count": 54,
   "id": "df35bbd3-0e60-4090-a8db-115458283f00",
   "metadata": {},
   "outputs": [
    {
     "name": "stdout",
     "output_type": "stream",
     "text": [
      "[0.10033535 0.20273255 0.54930614]\n"
     ]
    }
   ],
   "source": [
    "import numpy as np\n",
    "\n",
    "arr = np.array([0.1, 0.2, 0.5])\n",
    "\n",
    "x = np.arctanh(arr)\n",
    "\n",
    "print(x)"
   ]
  },
  {
   "cell_type": "code",
   "execution_count": null,
   "id": "aeba5edd-addd-4e2a-9919-e14f5f852110",
   "metadata": {},
   "outputs": [],
   "source": []
  },
  {
   "cell_type": "code",
   "execution_count": null,
   "id": "8b8b77b8-715a-40bb-9d59-414b1bd7bce0",
   "metadata": {},
   "outputs": [],
   "source": [
    "\"NumPy Set Operations\""
   ]
  },
  {
   "cell_type": "markdown",
   "id": "e2c32994-b663-4f2e-89b2-e45ee499078f",
   "metadata": {},
   "source": [
    "Set:  --> A set in mathematics  is collection of unique elements.\n",
    "\n",
    "    sets are used for operations invloving frequent intersection,union and difference opeartions."
   ]
  },
  {
   "cell_type": "code",
   "execution_count": null,
   "id": "945fe387-3827-4d59-a3e9-cf9b4ff2c4be",
   "metadata": {},
   "outputs": [],
   "source": [
    "\"Create Sets in NumPy\""
   ]
  },
  {
   "cell_type": "markdown",
   "id": "3b45f88e-d226-4d56-80db-9805a93b2fa7",
   "metadata": {},
   "source": [
    "we can use NumPy's unique() method to find the unique elements from any array,E.G create a set array but remember that the set arrays should be 1-D arrays"
   ]
  },
  {
   "cell_type": "code",
   "execution_count": 60,
   "id": "8dbce497-b6dc-4421-8806-8ba0aae8b55f",
   "metadata": {},
   "outputs": [
    {
     "name": "stdout",
     "output_type": "stream",
     "text": [
      "[1 2 3 4 5 6 7]\n"
     ]
    }
   ],
   "source": [
    "arr=np.array([1,2,3,4,5,6,7,1,3,4,4,6])\n",
    "x=np.unique(arr)\n",
    "print(x)"
   ]
  },
  {
   "cell_type": "code",
   "execution_count": null,
   "id": "d12f51fd-fdf2-41ce-9cf0-a57695c9a635",
   "metadata": {},
   "outputs": [],
   "source": [
    "\"Finding Union\""
   ]
  },
  {
   "cell_type": "markdown",
   "id": "2a4a76c9-67c1-4a46-a224-2a1f226fe713",
   "metadata": {},
   "source": [
    "To find the unique values of two arrays, use the union1d() method."
   ]
  },
  {
   "cell_type": "code",
   "execution_count": 65,
   "id": "6b761147-a531-4652-8334-06e97767d85b",
   "metadata": {},
   "outputs": [
    {
     "name": "stdout",
     "output_type": "stream",
     "text": [
      "[2 3 4 5 6 7]\n"
     ]
    }
   ],
   "source": [
    "arr1=np.array([2,4,3,2,4])\n",
    "arr2=np.array([2,3,4,5,2,6,7])\n",
    "x=np.union1d(arr1,arr2)\n",
    "print(x) #merge unique from both tables"
   ]
  },
  {
   "cell_type": "code",
   "execution_count": null,
   "id": "0831896a-79a5-4689-a23b-4f3f1af1f1cf",
   "metadata": {},
   "outputs": [],
   "source": [
    "\"Finding Intersection\""
   ]
  },
  {
   "cell_type": "markdown",
   "id": "da86ebfe-0a61-4b37-a007-7d5d2e4444a5",
   "metadata": {},
   "source": [
    "To find only the values that are present in both arrays, use the intersect1d() method."
   ]
  },
  {
   "cell_type": "code",
   "execution_count": 68,
   "id": "8826c518-51fb-4854-bfd6-7691002754e7",
   "metadata": {},
   "outputs": [
    {
     "name": "stdout",
     "output_type": "stream",
     "text": [
      "[2 3 4]\n"
     ]
    }
   ],
   "source": [
    "arr1=np.array([2,4,3,2,4])\n",
    "arr2=np.array([2,3,4,5,2,6,7])\n",
    "x=np.intersect1d(arr1,arr2)\n",
    "print(x) #common"
   ]
  },
  {
   "cell_type": "markdown",
   "id": "9ebdb339-ac98-4474-ba1c-41f322458c8c",
   "metadata": {},
   "source": [
    "Note: the intersect1d() method takes an optional argument assume_unique, which if set to True can speed up computation. It should always be set to True when dealing with sets."
   ]
  },
  {
   "cell_type": "code",
   "execution_count": null,
   "id": "6a273feb-46cf-4eb5-b36a-601561f8684a",
   "metadata": {},
   "outputs": [],
   "source": [
    "\"Finding Difference\""
   ]
  },
  {
   "cell_type": "markdown",
   "id": "6b9ddaeb-a714-42d8-b95f-ace428a52d7b",
   "metadata": {},
   "source": [
    "To find only the values in the first set that is NOT present in the seconds set, use the setdiff1d() method."
   ]
  },
  {
   "cell_type": "code",
   "execution_count": 79,
   "id": "fc1ec50d-cb0a-484f-8391-f0248ed6f907",
   "metadata": {},
   "outputs": [
    {
     "name": "stdout",
     "output_type": "stream",
     "text": [
      "[5 6 7]\n"
     ]
    }
   ],
   "source": [
    "arr1=np.array([2,4,3,2,4])\n",
    "arr2=np.array([2,3,4,5,2,6,7])\n",
    "x=np.setdiff1d(arr2,arr1,assume_unique=True)\n",
    "print(x)"
   ]
  },
  {
   "cell_type": "code",
   "execution_count": null,
   "id": "2430bfe2-a863-42b9-b2d9-29e1d4b9011a",
   "metadata": {},
   "outputs": [],
   "source": [
    "\"Finding Symmetric Difference\""
   ]
  },
  {
   "cell_type": "markdown",
   "id": "8d83729d-2d4a-4bc7-9f73-0b6c93ab8b2a",
   "metadata": {},
   "source": [
    "To find only the values that are NOT present in BOTH sets, use the setxor1d() method."
   ]
  },
  {
   "cell_type": "code",
   "execution_count": 82,
   "id": "3bef2ed7-4ebe-4702-9c1c-11f3b92a7707",
   "metadata": {},
   "outputs": [
    {
     "name": "stdout",
     "output_type": "stream",
     "text": [
      "[1 2 5 6]\n"
     ]
    }
   ],
   "source": [
    "set1 = np.array([1, 2, 3, 4])\n",
    "set2 = np.array([3, 4, 5, 6])\n",
    "\n",
    "newarr = np.setxor1d(set1, set2, assume_unique=True)\n",
    "\n",
    "print(newarr)"
   ]
  },
  {
   "cell_type": "code",
   "execution_count": null,
   "id": "45b75b15-2afc-483b-bf86-d31f3839b3ef",
   "metadata": {},
   "outputs": [],
   "source": []
  },
  {
   "cell_type": "code",
   "execution_count": null,
   "id": "07e562f1-e4ba-4413-b9c7-aa99ecc42695",
   "metadata": {},
   "outputs": [],
   "source": []
  },
  {
   "cell_type": "code",
   "execution_count": null,
   "id": "d0640f44-26d1-4e9b-b550-85aefd4e937f",
   "metadata": {},
   "outputs": [],
   "source": []
  },
  {
   "cell_type": "code",
   "execution_count": null,
   "id": "1832dede-01a3-494f-9997-d5b9786747e3",
   "metadata": {},
   "outputs": [],
   "source": []
  },
  {
   "cell_type": "code",
   "execution_count": null,
   "id": "b8433cc3-fb31-4a71-bdb6-b8d04a5a93e4",
   "metadata": {},
   "outputs": [],
   "source": []
  },
  {
   "cell_type": "code",
   "execution_count": null,
   "id": "9b566d5b-0f3b-45fa-ac0b-81ca493de0d3",
   "metadata": {},
   "outputs": [],
   "source": []
  },
  {
   "cell_type": "code",
   "execution_count": null,
   "id": "e05a5dc5-b86f-431d-9bf0-1455d58baa33",
   "metadata": {},
   "outputs": [],
   "source": []
  }
 ],
 "metadata": {
  "kernelspec": {
   "display_name": "Python 3 (ipykernel)",
   "language": "python",
   "name": "python3"
  },
  "language_info": {
   "codemirror_mode": {
    "name": "ipython",
    "version": 3
   },
   "file_extension": ".py",
   "mimetype": "text/x-python",
   "name": "python",
   "nbconvert_exporter": "python",
   "pygments_lexer": "ipython3",
   "version": "3.12.4"
  }
 },
 "nbformat": 4,
 "nbformat_minor": 5
}
