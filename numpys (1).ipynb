{
 "cells": [
  {
   "cell_type": "raw",
   "id": "389f8f49-c1a2-4e57-b366-549a15e79334",
   "metadata": {},
   "source": [
    "         python libraries"
   ]
  },
  {
   "cell_type": "raw",
   "id": "f273ed23-4c55-47b3-8111-6a7a55cb4d0c",
   "metadata": {},
   "source": [
    "1.NumPy"
   ]
  },
  {
   "cell_type": "markdown",
   "id": "bbb31309-3d84-49ce-9a66-e259aedf6d90",
   "metadata": {},
   "source": [
    "*NumPy is a Python Library.\n"
   ]
  },
  {
   "cell_type": "markdown",
   "id": "78409032-3be5-4728-bafe-4e82e501f994",
   "metadata": {},
   "source": [
    "*NumPy used for working with arrays.\n"
   ]
  },
  {
   "cell_type": "markdown",
   "id": "68729b2b-1484-40a7-9569-aafd59d4bae9",
   "metadata": {},
   "source": [
    "*NumPy is short for Numerical Python\"."
   ]
  },
  {
   "cell_type": "markdown",
   "id": "13ea1ad0-8816-4cfe-9d98-485d84143e6e",
   "metadata": {},
   "source": [
    "It also has functions for working in domain of linear algebra, fourier transform, and matrices."
   ]
  },
  {
   "cell_type": "raw",
   "id": "433b3c98-69d6-4f7a-a935-f78d02fa1db4",
   "metadata": {},
   "source": [
    "Why Use NumPy?"
   ]
  },
  {
   "cell_type": "markdown",
   "id": "b70fc34c-f380-41cf-a633-688487a3387e",
   "metadata": {},
   "source": [
    "1.In Python we have lists that serve the purpose of arrays, but they are slow to process."
   ]
  },
  {
   "cell_type": "markdown",
   "id": "e05c6c31-a947-4407-835d-64d61bffd609",
   "metadata": {},
   "source": [
    "2.NumPy aims to provide an array object that is up to 50x faster than traditional Python lists."
   ]
  },
  {
   "cell_type": "markdown",
   "id": "59dd0473-8b02-4395-a030-99039f668ad4",
   "metadata": {},
   "source": [
    "3.The array object in NumPy is called ndarray, it provides a lot of supporting functions that make working with ndarray very easy."
   ]
  },
  {
   "cell_type": "markdown",
   "id": "53b618cb-d868-4960-ac3a-21c2ed855000",
   "metadata": {},
   "source": [
    "4.Arrays are very frequently used in data science, where speed and resources are very important."
   ]
  },
  {
   "cell_type": "markdown",
   "id": "156f3944-9724-4f46-8d5e-0f40c99c9116",
   "metadata": {},
   "source": [
    "5.NumPy was created in 2005 by Travis Oliphant. It is an open source project and you can use it freely."
   ]
  },
  {
   "cell_type": "code",
   "execution_count": null,
   "id": "428c1694-4726-4efe-af2c-fe62efd45ca4",
   "metadata": {},
   "outputs": [],
   "source": []
  },
  {
   "cell_type": "raw",
   "id": "44fb0254-7e73-4a66-b516-3bd1a62438c9",
   "metadata": {},
   "source": [
    "#How we can create numPy and how we can read"
   ]
  },
  {
   "cell_type": "code",
   "execution_count": null,
   "id": "1e554fc2-784f-4371-902d-075c554b331a",
   "metadata": {},
   "outputs": [],
   "source": []
  },
  {
   "cell_type": "markdown",
   "id": "b4055d62-4f59-4d44-89a3-e03bb845ae3a",
   "metadata": {},
   "source": [
    "1.We have created 43 tutorial pages for you to learn more about Numpy."
   ]
  },
  {
   "cell_type": "markdown",
   "id": "66c0caac-3461-44c5-a13e-f5e62d8e99ef",
   "metadata": {},
   "source": [
    "2.Starting with  a basic introduction and ends up with creating and plotting random data sets and working with NumPy functions."
   ]
  },
  {
   "cell_type": "code",
   "execution_count": null,
   "id": "13d8135f-0108-48da-8210-f28cb671b357",
   "metadata": {},
   "outputs": [],
   "source": [
    "Data Science: Is a branch of computer science where we study how to store ,use and anaylse data for deriving information from it."
   ]
  },
  {
   "cell_type": "raw",
   "id": "62c6b44c-f51a-4330-80fd-dc830b0cb7df",
   "metadata": {},
   "source": [
    "Why is NumPy Faster then Lists?"
   ]
  },
  {
   "cell_type": "markdown",
   "id": "2e972f6e-e4fc-498e-9c6b-e5c9c12f20f5",
   "metadata": {},
   "source": [
    "1.NumPy arrays are stored at one continuous place in memory unlike lists,so processes can access and manipulate them very effieciently.\n",
    "2.This behaviour is called locality of reference in computer science.\n",
    "3.This is the main reason why NumPy is faster than lists. Also it is optimized to work with latest CPU architectures.\n"
   ]
  },
  {
   "cell_type": "raw",
   "id": "db8eab75-5ab4-4591-8003-7de380fe53d5",
   "metadata": {},
   "source": [
    "Which Language is NumPy written in?"
   ]
  },
  {
   "cell_type": "markdown",
   "id": "9ad4019c-a07b-485f-9a3c-0dcde3703351",
   "metadata": {},
   "source": [
    "*NumPy is Python Library and written partially  in Python but most of the parts that require fast computation are written in C or C++"
   ]
  },
  {
   "cell_type": "raw",
   "id": "7f78c5de-4315-42e1-9e1a-43cfe2267655",
   "metadata": {},
   "source": [
    "Installation of Numpy"
   ]
  },
  {
   "cell_type": "markdown",
   "id": "5229a67d-e14f-477b-87b3-ec258013d826",
   "metadata": {},
   "source": [
    "If you have Python and PIP already installed on a system,then Installation of NumPy is very easy.\n",
    "\n",
    "Install it using this command:\n",
    "\n",
    "C:\\Users\\Your Name>pip install numpy\n",
    "\n",
    "If this command fails, then use a python distribution that already has NumPy installed like, Anaconda, Spyder etc."
   ]
  },
  {
   "cell_type": "raw",
   "id": "c2f08b9b-f7b4-452b-9545-4d9c539221fb",
   "metadata": {},
   "source": [
    "Import NumPy"
   ]
  },
  {
   "cell_type": "markdown",
   "id": "71ca55ad-1197-4b9d-9727-ae99e2838f89",
   "metadata": {},
   "source": [
    "Once NumPy is installed,import it in your applications by adding the import keyword:"
   ]
  },
  {
   "cell_type": "code",
   "execution_count": 5,
   "id": "f2c2cf96-a1b5-4c57-9fd2-6fad2be7248a",
   "metadata": {},
   "outputs": [],
   "source": [
    "import numpy"
   ]
  },
  {
   "cell_type": "markdown",
   "id": "f6b786a8-90be-40a6-9b6d-6601d0f86f5f",
   "metadata": {},
   "source": [
    "Now NumPy is imported and ready to use."
   ]
  },
  {
   "cell_type": "code",
   "execution_count": 13,
   "id": "d66442f4-4f36-451f-a293-688607661126",
   "metadata": {},
   "outputs": [
    {
     "name": "stdout",
     "output_type": "stream",
     "text": [
      "[1 2 3 4 5]\n"
     ]
    }
   ],
   "source": [
    "import numpy\n",
    "arr =numpy.array([1,2,3,4,5])\n",
    "print(arr)"
   ]
  },
  {
   "cell_type": "raw",
   "id": "16a10430-1556-4ee4-8d21-c0f2f3c5b912",
   "metadata": {},
   "source": [
    "NumPy as np"
   ]
  },
  {
   "cell_type": "markdown",
   "id": "ea06a5bb-7061-484e-9ccf-b4955adb9438",
   "metadata": {},
   "source": [
    "Numpy is useally imported under the np alias\n",
    "\n",
    "Alias:\n",
    "In Python are an alternate name for reffering to the same thing."
   ]
  },
  {
   "cell_type": "markdown",
   "id": "87aa371b-c7ed-4066-9893-58eb13a484d9",
   "metadata": {},
   "source": [
    "Create an alias with the as keyword while importing:"
   ]
  },
  {
   "cell_type": "code",
   "execution_count": 19,
   "id": "b148e6da-61ee-435b-b784-87a825372022",
   "metadata": {},
   "outputs": [],
   "source": [
    "import numpy as np"
   ]
  },
  {
   "cell_type": "code",
   "execution_count": 21,
   "id": "3e6c6363-d7b4-44af-a33f-0e12f6467b94",
   "metadata": {},
   "outputs": [
    {
     "name": "stdout",
     "output_type": "stream",
     "text": [
      "[1 2 3 4 4 5]\n"
     ]
    }
   ],
   "source": [
    "import numpy as np\n",
    "arr=np.array([1,2,3,4,4,5])\n",
    "print(arr)"
   ]
  },
  {
   "cell_type": "code",
   "execution_count": 23,
   "id": "3daa63c5-74a1-432c-8faf-04d144a6cb01",
   "metadata": {},
   "outputs": [
    {
     "name": "stdout",
     "output_type": "stream",
     "text": [
      "['1' 'string' '2' '3' '4' '4' '5']\n"
     ]
    }
   ],
   "source": [
    "arr=np.array([1,\"string\",2,3,4,4,5])\n",
    "print(arr)"
   ]
  },
  {
   "cell_type": "raw",
   "id": "bffb3153-9c6a-40b8-9c0a-ef4624199456",
   "metadata": {},
   "source": [
    "Checking NumPy Version"
   ]
  },
  {
   "cell_type": "markdown",
   "id": "42536e99-d3c0-40dd-a0fe-b37909ad0aa1",
   "metadata": {},
   "source": [
    "The version string stored under _version_attribute."
   ]
  },
  {
   "cell_type": "code",
   "execution_count": 26,
   "id": "0620bb6c-aa0e-4736-89fd-d925ae4c35bc",
   "metadata": {},
   "outputs": [
    {
     "name": "stdout",
     "output_type": "stream",
     "text": [
      "1.26.4\n"
     ]
    }
   ],
   "source": [
    "print(np.__version__)"
   ]
  },
  {
   "cell_type": "raw",
   "id": "32a14250-d045-46a3-9d55-e8cbca53c388",
   "metadata": {},
   "source": []
  },
  {
   "cell_type": "markdown",
   "id": "026797cd-befe-4d40-a63f-5766b6b4d529",
   "metadata": {},
   "source": [
    "NumPy Creating Arrays"
   ]
  },
  {
   "cell_type": "markdown",
   "id": "bea239a1-52a5-44db-9485-6cfc746e7419",
   "metadata": {},
   "source": [
    "Create a NumPy ndarray Object\n",
    "\n",
    "NumPy is used for work with arrays.The array Object in NumPy is called ndarray\n",
    "\n",
    "We can create NumPy ndarray object by using the array() function."
   ]
  },
  {
   "cell_type": "code",
   "execution_count": 29,
   "id": "60e6fb9b-562f-4581-ab37-a53ff769c610",
   "metadata": {},
   "outputs": [
    {
     "name": "stdout",
     "output_type": "stream",
     "text": [
      "[1 2 3 4 5 6 2]\n",
      "<class 'numpy.ndarray'>\n"
     ]
    }
   ],
   "source": [
    "import numpy as np\n",
    "arr=np.array([1,2,3,4,5,6,2])\n",
    "print(arr)\n",
    "print(type(arr))"
   ]
  },
  {
   "cell_type": "markdown",
   "id": "d622a4a4-2781-4532-9402-3f3fac92bc8b",
   "metadata": {},
   "source": [
    "to create an ndarray ,we can pass alist,tuple or any array_like objec into the array() method,and it will be converted into an ndarray()"
   ]
  },
  {
   "cell_type": "code",
   "execution_count": 32,
   "id": "7bc8f124-fd24-4dfa-8235-7c31698fda03",
   "metadata": {},
   "outputs": [
    {
     "name": "stdout",
     "output_type": "stream",
     "text": [
      "[1 2 3 4 4 5]\n"
     ]
    }
   ],
   "source": [
    "# Use a tuple to create a NumPy array:\n",
    "import numpy as np\n",
    "arr=np.array((1,2,3,4,4,5))\n",
    "print(arr)"
   ]
  },
  {
   "cell_type": "raw",
   "id": "7c80f69e-6b89-4992-ad94-ce2dc3db0ff1",
   "metadata": {},
   "source": [
    "Dimensions in Arrays"
   ]
  },
  {
   "cell_type": "markdown",
   "id": "909dfb19-caf9-4686-a584-ece8627e19cc",
   "metadata": {},
   "source": [
    "A dimentions in arrays is one level of array depth(nested arrays)."
   ]
  },
  {
   "cell_type": "markdown",
   "id": "ea65a638-0250-4e55-8d7a-d0d18ddb3015",
   "metadata": {},
   "source": [
    "nested array: are arrays that have arrays as their elements."
   ]
  },
  {
   "cell_type": "raw",
   "id": "734a778c-70fd-46a8-a533-64fb1ec2cbfc",
   "metadata": {},
   "source": [
    "O-D Arrays"
   ]
  },
  {
   "cell_type": "markdown",
   "id": "f095cdd8-dc13-46d1-b917-4f47cda424f7",
   "metadata": {},
   "source": [
    "0-D arrays or scalars are the elements in an array.Each value in an array is a 0-D array."
   ]
  },
  {
   "cell_type": "code",
   "execution_count": 38,
   "id": "0eed36ac-cd0d-4daa-ba3e-e0a334093523",
   "metadata": {},
   "outputs": [
    {
     "name": "stdout",
     "output_type": "stream",
     "text": [
      "42\n"
     ]
    }
   ],
   "source": [
    "arr=np.array(42)\n",
    "print(arr)"
   ]
  },
  {
   "cell_type": "raw",
   "id": "3f4d7a29-62aa-48fd-91d3-1902518b0038",
   "metadata": {},
   "source": [
    "1-D arrays"
   ]
  },
  {
   "cell_type": "markdown",
   "id": "2ef53756-e7f8-4cfd-9b3d-2e29147ac822",
   "metadata": {},
   "source": [
    "An array that has 0-D arrsys as its elements is called uni-dimentional arrays or 1-D array."
   ]
  },
  {
   "cell_type": "code",
   "execution_count": 40,
   "id": "658815b8-eb0f-406e-82a7-f1dd36942fa9",
   "metadata": {},
   "outputs": [
    {
     "name": "stdout",
     "output_type": "stream",
     "text": [
      "[1 2 3 4 5]\n"
     ]
    }
   ],
   "source": [
    "arr=np.array([1,2,3,4,5])\n",
    "print(arr)"
   ]
  },
  {
   "cell_type": "raw",
   "id": "c0a02434-9d83-46c9-8343-a35a582dfc45",
   "metadata": {},
   "source": [
    "2-D Arrays"
   ]
  },
  {
   "cell_type": "markdown",
   "id": "efd3cf1d-337c-4982-accd-d975d65001fa",
   "metadata": {},
   "source": [
    "An array that has 1-D arrays  as its elements is called a 2_D array.\n",
    "These are often represent used to represent matrix or 2nd order tensors."
   ]
  },
  {
   "cell_type": "code",
   "execution_count": null,
   "id": "84033277-1d83-4a99-9f19-6a919349359e",
   "metadata": {},
   "outputs": [],
   "source": [
    "NumPy has a whole sub module dedicated towards matrix operations called numpy.mat"
   ]
  },
  {
   "cell_type": "code",
   "execution_count": 53,
   "id": "3f0dae03-3783-4d17-9468-c3e782263705",
   "metadata": {},
   "outputs": [
    {
     "name": "stdout",
     "output_type": "stream",
     "text": [
      "[[1 2 3]\n",
      " [2 3 4]]\n"
     ]
    }
   ],
   "source": [
    "arr=np.array([[1,2,3],[2,3,4]])\n",
    "print(arr)"
   ]
  },
  {
   "cell_type": "markdown",
   "id": "8e508884-f7f3-478a-bebf-b1719f51a832",
   "metadata": {},
   "source": [
    "3-D arrays "
   ]
  },
  {
   "cell_type": "markdown",
   "id": "8e1b67d4-abc4-4443-bb03-1b746ae143f1",
   "metadata": {},
   "source": [
    "An arrays that has 2-D arrays(matrices) as its elements is called 3-D array.\n",
    "These often used to represent 3rd order tensor."
   ]
  },
  {
   "cell_type": "code",
   "execution_count": 60,
   "id": "00bc5881-0df4-4982-b9cd-c9da38be1a5e",
   "metadata": {},
   "outputs": [
    {
     "name": "stdout",
     "output_type": "stream",
     "text": [
      "[[[1 2 3 4]\n",
      "  [6 7 8 9]]\n",
      "\n",
      " [[1 2 3 4]\n",
      "  [2 4 5 6]]]\n"
     ]
    }
   ],
   "source": [
    "arr=np.array([[[1,2,3,4],[6,7,8,9]],[[1,2,3,4],[2,4,5,6]]])\n",
    "print(arr)"
   ]
  },
  {
   "cell_type": "markdown",
   "id": "fc79a1f7-8697-40ec-b5da-fea80b4b4f56",
   "metadata": {},
   "source": [
    "Check Number of Dimentions?"
   ]
  },
  {
   "cell_type": "markdown",
   "id": "50d38c73-44f1-4af5-86fc-1a03ffaba56d",
   "metadata": {},
   "source": [
    "NumPy Arrays provides the \"ndim\" attribute that returns an integer that tells us how many dimentions the array have. "
   ]
  },
  {
   "cell_type": "code",
   "execution_count": 63,
   "id": "d3ed792d-0269-43cd-baba-38b1ec6a0b3f",
   "metadata": {},
   "outputs": [],
   "source": [
    "import numpy as np"
   ]
  },
  {
   "cell_type": "code",
   "execution_count": 67,
   "id": "88f39307-f266-4627-84ee-54f55da6f893",
   "metadata": {},
   "outputs": [
    {
     "name": "stdout",
     "output_type": "stream",
     "text": [
      "0\n",
      "1\n",
      "2\n",
      "3\n"
     ]
    }
   ],
   "source": [
    "a=np.array(23)\n",
    "b=np.array([1,2,34,3])\n",
    "c=np.array([[1,2,3,4],[3,4,5,5]])\n",
    "d=np.array([[[1,2,3,4],[233,4,4,5]],[[2,3,4,4],[4,4,55,3]]])\n",
    "print(a.ndim)\n",
    "print(b.ndim)\n",
    "print(c.ndim)\n",
    "print(d.ndim)"
   ]
  },
  {
   "cell_type": "raw",
   "id": "e641bbee-07fd-469a-bf3e-c88737aef061",
   "metadata": {},
   "source": [
    "Higher Dimentional Arrays"
   ]
  },
  {
   "cell_type": "code",
   "execution_count": null,
   "id": "fbd9de28-6a2d-497f-8988-1bfd842857d6",
   "metadata": {},
   "outputs": [],
   "source": [
    "An Array can have any number of dimentions.\n",
    "When the array is created,you can  define the number of dimentions by using \"ndmin\" argument"
   ]
  },
  {
   "cell_type": "code",
   "execution_count": 44,
   "id": "87eaba08-6bd1-4c3d-a096-c2ae934d5137",
   "metadata": {},
   "outputs": [
    {
     "name": "stdout",
     "output_type": "stream",
     "text": [
      "[[[[[1 2 4 5]]]]]\n",
      "number of dimensions : 5\n"
     ]
    }
   ],
   "source": [
    "arr=np.array([1,2,4,5],ndmin=5)\n",
    "print(arr)\n",
    "print('number of dimensions :', arr.ndim)"
   ]
  },
  {
   "cell_type": "markdown",
   "id": "4c9efacf-5d96-43b0-83d0-8551a6771a7b",
   "metadata": {},
   "source": [
    "In this array the innermost dimension (5th dim) has 4 elements, the 4th dim has 1 element that is the vector, the 3rd dim has 1 element that is the matrix with the vector, the 2nd dim has 1 element that is 3D array and 1st dim has 1 element that is a 4D array."
   ]
  },
  {
   "cell_type": "raw",
   "id": "6bdfe24e-1fe5-4ce0-a074-9e3cc8f77f11",
   "metadata": {},
   "source": [
    "NumPy Array Indexing"
   ]
  },
  {
   "cell_type": "raw",
   "id": "a445f9f4-70cd-4a1c-a48f-8fcdfc8dfabc",
   "metadata": {},
   "source": [
    "Access Array Elements"
   ]
  },
  {
   "cell_type": "markdown",
   "id": "8bee80d2-2b99-4c46-980f-02d8056a43d5",
   "metadata": {},
   "source": [
    "1.Array indexing is the same as accessing an array element.\n",
    "2.You can access an array element by reffering to its index number.\n",
    "3. The indexes inNumPy arrays start with 0,meaning that the first element has index 0,and the second has index 1 etc."
   ]
  },
  {
   "cell_type": "code",
   "execution_count": 77,
   "id": "b74a5188-49e1-4545-a39b-c3ff8e3bda95",
   "metadata": {},
   "outputs": [
    {
     "name": "stdout",
     "output_type": "stream",
     "text": [
      "1\n"
     ]
    }
   ],
   "source": [
    "arr=np.array([1,2,4,5])\n",
    "print(arr[0])"
   ]
  },
  {
   "cell_type": "code",
   "execution_count": 79,
   "id": "507c5c44-6dae-4c9b-bcb4-a132e6b0fdc0",
   "metadata": {},
   "outputs": [
    {
     "name": "stdout",
     "output_type": "stream",
     "text": [
      "2\n"
     ]
    }
   ],
   "source": [
    "import numpy as np\n",
    "\n",
    "arr = np.array([1, 2, 3, 4])\n",
    "\n",
    "print(arr[1])"
   ]
  },
  {
   "cell_type": "code",
   "execution_count": 84,
   "id": "927672d1-bbfb-4ca3-835c-290c64a5767f",
   "metadata": {},
   "outputs": [
    {
     "name": "stdout",
     "output_type": "stream",
     "text": [
      "6\n"
     ]
    }
   ],
   "source": [
    "# Get third and fourth elements from the following array and add them.\n",
    "arr = np.array([1, 2, 3, 4])\n",
    "\n",
    "print(arr[1]+arr[3])\n"
   ]
  },
  {
   "cell_type": "code",
   "execution_count": null,
   "id": "c9e90c6b-cd04-440b-9db6-1ceba6123ee0",
   "metadata": {},
   "outputs": [],
   "source": []
  },
  {
   "cell_type": "markdown",
   "id": "e2418987-5517-473f-a7ee-2b799fecfb30",
   "metadata": {},
   "source": [
    "Access 2-D arrays"
   ]
  },
  {
   "cell_type": "markdown",
   "id": "ebd24b2f-22e2-48c2-8dba-90e700aae236",
   "metadata": {},
   "source": [
    "To access the elements from 2-d arrays we can use the comma seperated integers representing the dimetions and the index of the element.\n",
    "\n",
    "think of 2-d arrays like a table with rows and columns ,where the dimentions represent the rows  and the index represents the column ."
   ]
  },
  {
   "cell_type": "code",
   "execution_count": 111,
   "id": "c4671e1c-c7ff-4f5d-a9b6-e92506539895",
   "metadata": {},
   "outputs": [
    {
     "name": "stdout",
     "output_type": "stream",
     "text": [
      "[[ 1  2  3 45  4]\n",
      " [ 7  5  3  4  4]]\n",
      "2nd element of 1st row: 2\n",
      "2\n"
     ]
    }
   ],
   "source": [
    "import numpy as np\n",
    "arr=np.array([[1,2,3,45,4],[7,5,3,4,4]])\n",
    "print(arr)\n",
    "print(\"2nd element of 1st row:\",arr[0,1])\n",
    "print(arr.ndim)# 0 indecates row and 1 indicates column "
   ]
  },
  {
   "cell_type": "code",
   "execution_count": 16,
   "id": "4f9246ce-ad52-49fe-a649-46aad141b213",
   "metadata": {},
   "outputs": [
    {
     "name": "stdout",
     "output_type": "stream",
     "text": [
      "5th element in 2cond column 23\n"
     ]
    }
   ],
   "source": [
    "#Access the element on the 2nd row, 5th column:\n",
    "import numpy as np\n",
    "arr=np.array([[1,2,4,55,54],[3,43,3,32,23]])\n",
    "print(\"5th element in 2cond column\",arr[1,4])\n"
   ]
  },
  {
   "cell_type": "markdown",
   "id": "11120962-5bd2-49fb-8844-aed0642a5cfc",
   "metadata": {},
   "source": []
  },
  {
   "cell_type": "raw",
   "id": "560fa9b5-c990-4165-99e4-066261fde63e",
   "metadata": {},
   "source": [
    "Access 3-D Arrays"
   ]
  },
  {
   "cell_type": "markdown",
   "id": "73d40482-c247-4eb9-8a4e-448d658bab64",
   "metadata": {},
   "source": [
    "to access elements from 3-d arrays we can use comma seperaed integers representing the dimentions and the index of the element."
   ]
  },
  {
   "cell_type": "code",
   "execution_count": 24,
   "id": "60320b93-f56d-44c8-8732-a0a9678873f2",
   "metadata": {},
   "outputs": [
    {
     "name": "stdout",
     "output_type": "stream",
     "text": [
      "[[[ 1  2  3]\n",
      "  [ 4  5  6]]\n",
      "\n",
      " [[ 7  8  9]\n",
      "  [10 11 12]]]\n",
      "acces the third element of the second array of the first array: 6\n"
     ]
    }
   ],
   "source": [
    "#acces the third element of the second array of the first array:\n",
    "arr=np.array([[[1,2,3],[4,5,6]],[[7,8,9],[10,11,12]]])\n",
    "print(arr)\n",
    "print(\"acces the third element of the second array of the first array:\",\n",
    "arr[0,1,2])\n",
    "             "
   ]
  },
  {
   "cell_type": "code",
   "execution_count": null,
   "id": "f3328ad7-8efd-42e0-9407-525e61a75da7",
   "metadata": {},
   "outputs": [],
   "source": [
    "Example Explained\n",
    "arr[0, 1, 2] prints the value 6.\n",
    "\n",
    "And this is why:\n",
    "\n",
    "The first number represents the first dimension, which contains two arrays:\n",
    "[[1, 2, 3], [4, 5, 6]]\n",
    "and:\n",
    "[[7, 8, 9], [10, 11, 12]]\n",
    "Since we selected 0, we are left with the first array:\n",
    "[[1, 2, 3], [4, 5, 6]]\n",
    "\n",
    "The second number represents the second dimension, which also contains two arrays:\n",
    "[1, 2, 3]\n",
    "and:\n",
    "[4, 5, 6]\n",
    "Since we selected 1, we are left with the second array:\n",
    "[4, 5, 6]\n",
    "\n",
    "The third number represents the third dimension, which contains three values:\n",
    "4\n",
    "5\n",
    "6\n",
    "Since we selected 2, we end up with the third value:\n",
    "6"
   ]
  },
  {
   "cell_type": "code",
   "execution_count": null,
   "id": "734e8398-d86f-4e18-8305-e979a871937e",
   "metadata": {},
   "outputs": [],
   "source": [
    "**Negative indexing"
   ]
  },
  {
   "cell_type": "code",
   "execution_count": null,
   "id": "20c20f37-1edd-4633-8ec9-09d45eeb8198",
   "metadata": {},
   "outputs": [],
   "source": [
    "use negative indexing to acces an array from the end"
   ]
  },
  {
   "cell_type": "code",
   "execution_count": 26,
   "id": "e7411bf4-6ce0-4d57-8dec-bdeacd96c898",
   "metadata": {},
   "outputs": [
    {
     "name": "stdout",
     "output_type": "stream",
     "text": [
      "Last element from 2nd dim:  10\n"
     ]
    }
   ],
   "source": [
    "import numpy as np\n",
    "\n",
    "arr = np.array([[1,2,3,4,5], [6,7,8,9,10]])\n",
    "\n",
    "print('Last element from 2nd dim: ', arr[1, -1])\n",
    "\n",
    "# 1 indicates the second list\n",
    "#and -1 indecates the direction from last"
   ]
  },
  {
   "cell_type": "code",
   "execution_count": null,
   "id": "0ae893fb-beaf-4dd3-873f-59edb96bb8f7",
   "metadata": {},
   "outputs": [],
   "source": []
  },
  {
   "cell_type": "markdown",
   "id": "52434a73-e064-4f45-9252-fbe2d54cddbe",
   "metadata": {},
   "source": [
    "NumPy Array Slicing"
   ]
  },
  {
   "cell_type": "code",
   "execution_count": null,
   "id": "2d78897e-209c-4a74-9945-7d25ddc3caa9",
   "metadata": {},
   "outputs": [],
   "source": [
    "Slicing arrays \n",
    "1.slicing in python means taking elements from one index to another index.\n",
    "2.we pass the slice instead of index like this:[start:end]\n",
    "3.we can also define the step ,like this:[start:end:step]\n",
    "4.If don't the start its considered 0\n",
    "5.if we don't pass the end its considered length of the arrat in that dimention\n",
    "6.if we don't pass step its considered 1\n"
   ]
  },
  {
   "cell_type": "code",
   "execution_count": 29,
   "id": "0e887472-9e10-411b-a7db-aca8bef9a066",
   "metadata": {},
   "outputs": [
    {
     "name": "stdout",
     "output_type": "stream",
     "text": [
      "[ 2 34  3  5]\n"
     ]
    }
   ],
   "source": [
    "# slice  elements from index 1 to index 5 from the following array:\n",
    "import numpy as np\n",
    "arr=np.array([1,2,34,3,5,56,6,5])\n",
    "print(arr[1:5])"
   ]
  },
  {
   "cell_type": "markdown",
   "id": "0c6ab027-6a89-4772-a22b-ed729ccca58a",
   "metadata": {},
   "source": [
    "Note: The result includes the start index, but excludes the end index."
   ]
  },
  {
   "cell_type": "code",
   "execution_count": null,
   "id": "2c20811e-5986-4fd4-a00a-4640a81b486f",
   "metadata": {},
   "outputs": [],
   "source": [
    "#slice the elements from index 4 to end of the array\n"
   ]
  },
  {
   "cell_type": "code",
   "execution_count": 33,
   "id": "df961b80-bb3f-4dfe-adf1-a18b34b4e24d",
   "metadata": {},
   "outputs": [
    {
     "name": "stdout",
     "output_type": "stream",
     "text": [
      "[ 5 56  6  5]\n"
     ]
    }
   ],
   "source": [
    "arr=np.array([1,2,34,3,5,56,6,5])\n",
    "print(arr[4:])"
   ]
  },
  {
   "cell_type": "code",
   "execution_count": 36,
   "id": "2a8b6c02-2520-4bce-9a62-e6ff1789dfd7",
   "metadata": {},
   "outputs": [
    {
     "name": "stdout",
     "output_type": "stream",
     "text": [
      "[ 1  2 34  3]\n"
     ]
    }
   ],
   "source": [
    "# Slice elements from the beginning to index 4 (not included)\n",
    "arr=np.array([1,2,34,3,5,56,6,5])\n",
    "print(arr[:4])"
   ]
  },
  {
   "cell_type": "code",
   "execution_count": null,
   "id": "aac78d26-acc3-4a4a-95de-627e7fc7aec9",
   "metadata": {},
   "outputs": [],
   "source": []
  },
  {
   "cell_type": "code",
   "execution_count": null,
   "id": "6e9e53ae-f0b7-4aa9-aafa-99503232db9e",
   "metadata": {},
   "outputs": [],
   "source": [
    "Negative slicing"
   ]
  },
  {
   "cell_type": "markdown",
   "id": "00e5ca34-7a63-4d75-9c53-4b79ea3a84e8",
   "metadata": {},
   "source": [
    "use the minus operator to refer to an index from the end:"
   ]
  },
  {
   "cell_type": "code",
   "execution_count": 39,
   "id": "963f04e6-f678-4666-85da-d4f85997e60b",
   "metadata": {},
   "outputs": [
    {
     "name": "stdout",
     "output_type": "stream",
     "text": [
      "[56  6]\n"
     ]
    }
   ],
   "source": [
    "arr=np.array([1,2,34,3,5,56,6,5])\n",
    "print(arr[-3:-1])"
   ]
  },
  {
   "cell_type": "code",
   "execution_count": null,
   "id": "421eb6c7-f977-4ca5-997e-628572e66340",
   "metadata": {},
   "outputs": [],
   "source": [
    "*STEP"
   ]
  },
  {
   "cell_type": "markdown",
   "id": "04a8a798-48ab-46a9-87bb-58e6819d86f2",
   "metadata": {},
   "source": [
    "Use the step value to determine the step of the slicing:"
   ]
  },
  {
   "cell_type": "code",
   "execution_count": 44,
   "id": "484b3205-725b-4fb9-aa6f-b9198a30b8f4",
   "metadata": {},
   "outputs": [
    {
     "name": "stdout",
     "output_type": "stream",
     "text": [
      "[2 4]\n"
     ]
    }
   ],
   "source": [
    "import numpy as np\n",
    "#Return every other element from index 1 to index 5:\n",
    "arr = np.array([1, 2, 3, 4, 5, 6, 7])\n",
    "\n",
    "print(arr[1:5:2])\n"
   ]
  },
  {
   "cell_type": "code",
   "execution_count": 46,
   "id": "f4fdc861-4eb9-4102-ab5f-64154eb47cdf",
   "metadata": {},
   "outputs": [
    {
     "name": "stdout",
     "output_type": "stream",
     "text": [
      "[1 3 5 7]\n"
     ]
    }
   ],
   "source": [
    "# Return every other element from the entire array:\n",
    "\n",
    "import numpy as np\n",
    "\n",
    "arr = np.array([1, 2, 3, 4, 5, 6, 7])\n",
    "\n",
    "print(arr[::2])"
   ]
  },
  {
   "cell_type": "code",
   "execution_count": null,
   "id": "0b238964-73e6-4891-afad-b7bf8b262271",
   "metadata": {},
   "outputs": [],
   "source": [
    "Slicing 2-D Arrays"
   ]
  },
  {
   "cell_type": "code",
   "execution_count": 48,
   "id": "a049e00c-241c-4461-bd3c-c7ff61964d98",
   "metadata": {},
   "outputs": [
    {
     "name": "stdout",
     "output_type": "stream",
     "text": [
      "[7 8 9]\n"
     ]
    }
   ],
   "source": [
    "# From the second element, slice elements from index 1 to index 4 (not included):\n",
    "\n",
    "import numpy as np\n",
    "\n",
    "arr = np.array([[1, 2, 3, 4, 5], [6, 7, 8, 9, 10]])\n",
    "\n",
    "print(arr[1, 1:4]) # second array to take values from 1 ro 4"
   ]
  },
  {
   "cell_type": "markdown",
   "id": "3ef0af0f-9ce5-4994-a8c5-6f7cd2de48a3",
   "metadata": {},
   "source": [
    "Note: Remember that second element has index 1."
   ]
  },
  {
   "cell_type": "code",
   "execution_count": 57,
   "id": "e6ed96b7-8792-47be-9d20-14c4afe10142",
   "metadata": {},
   "outputs": [
    {
     "name": "stdout",
     "output_type": "stream",
     "text": [
      "[3 8]\n"
     ]
    }
   ],
   "source": [
    "# From both elements, return index 2:\n",
    "\n",
    "import numpy as np\n",
    "\n",
    "arr = np.array([[1, 2, 3, 4, 5], [6, 7, 8, 9, 10]])\n",
    "\n",
    "print(arr[0:2, 2]) # from both arrays we took 2nd index element"
   ]
  },
  {
   "cell_type": "code",
   "execution_count": 1,
   "id": "9467dbf7-d792-47de-8de7-c635ff224336",
   "metadata": {},
   "outputs": [
    {
     "name": "stdout",
     "output_type": "stream",
     "text": [
      "[[2 3 4]\n",
      " [7 8 9]]\n"
     ]
    }
   ],
   "source": [
    "# From both elements, slice index 1 to index 4 (not included), this will return a 2-D array:\n",
    "\n",
    "import numpy as np\n",
    "\n",
    "arr = np.array([[1, 2, 3, 4, 5], [6, 7, 8, 9, 10]])\n",
    "\n",
    "print(arr[0:2, 1:4])"
   ]
  },
  {
   "cell_type": "code",
   "execution_count": null,
   "id": "11dfefa7-2782-453b-9064-08ee5da54ff6",
   "metadata": {},
   "outputs": [],
   "source": []
  },
  {
   "cell_type": "markdown",
   "id": "164f3bda-ffe5-47f6-a396-495e79d89386",
   "metadata": {},
   "source": [
    "*NumPy Data Types"
   ]
  },
  {
   "cell_type": "markdown",
   "id": "93e68fe3-1723-4fc1-8d01-fe907d48adfd",
   "metadata": {},
   "source": [
    "1.data types in Python\n",
    "\n",
    "*Strings use-to represent text data,the text is given under qoute marks e.g \"abcd\"\n",
    "*integer-used to represent integer numbers e.g -1,-2,-3\n",
    "*float -used to represent real numbers eg:1.2,3.2\n",
    "*boolean -used to represent true or  false\n",
    "*complex -used to represent complex numbers eg:1.0+2.j.1+j\n"
   ]
  },
  {
   "cell_type": "raw",
   "id": "57fbb781-b3a9-4167-9a12-abb1e581072e",
   "metadata": {},
   "source": [
    "**data types in NumPy"
   ]
  },
  {
   "cell_type": "code",
   "execution_count": null,
   "id": "c392e69d-708a-4e24-a712-4598becdfabe",
   "metadata": {},
   "outputs": [],
   "source": [
    "NumPy has some extra data types and refer to data types with one character ,like 'i' for integers ,u for unsighned integers etc.\n",
    "Below is a list of all data types in NumPy and the characters used to represent them.\n",
    "i - integer\n",
    "b - boolean\n",
    "u - unsigned integer\n",
    "f - float\n",
    "c - complex float\n",
    "m - timedelta\n",
    "M - datetime\n",
    "O - object\n",
    "S - string\n",
    "U - unicode string\n",
    "V - fixed chunk of memory for other type ( void )\n"
   ]
  },
  {
   "cell_type": "raw",
   "id": "988fcb7a-1a05-4f9c-b8fc-071757c0f68d",
   "metadata": {},
   "source": [
    "Checking the Data Type of an Array"
   ]
  },
  {
   "cell_type": "markdown",
   "id": "24d95bff-488c-4e02-a8b1-dd7fa408bfc8",
   "metadata": {},
   "source": [
    "The NumPy array object has a property called dtype that returns the data type of the array:\n"
   ]
  },
  {
   "cell_type": "code",
   "execution_count": 8,
   "id": "00e5d77e-8287-44c2-9c05-949841fa32a7",
   "metadata": {},
   "outputs": [
    {
     "name": "stdout",
     "output_type": "stream",
     "text": [
      "int32\n"
     ]
    }
   ],
   "source": [
    "#get the type of an array object:\n",
    "import numpy as np\n",
    "arr=np.array([1,2,3,4])\n",
    "print(arr.dtype)\n"
   ]
  },
  {
   "cell_type": "code",
   "execution_count": 10,
   "id": "b88f8442-2015-4c2f-903e-9aa6a84102b3",
   "metadata": {},
   "outputs": [
    {
     "name": "stdout",
     "output_type": "stream",
     "text": [
      "<U6\n"
     ]
    }
   ],
   "source": [
    "# Get the data type of an array containing strings:\n",
    "arr=np.array([\"apple\",\"banana\",\"cherry\"])\n",
    "print(arr.dtype)"
   ]
  },
  {
   "cell_type": "markdown",
   "id": "96ece617-7629-4ffc-8970-c9ea75fa9ef2",
   "metadata": {},
   "source": [
    "Creating Arrays With a Defined Data Type"
   ]
  },
  {
   "cell_type": "markdown",
   "id": "0685f965-0e7a-44ff-83c5-ed91fc56d5a0",
   "metadata": {},
   "source": [
    "we use the array() function to create arrays ,this function can take an optional argument :\n",
    "\"dtype\" that allows us to define the expected data type of the array elements:"
   ]
  },
  {
   "cell_type": "code",
   "execution_count": 14,
   "id": "5e63f8d5-6a6e-415a-9e67-6dc07cffb515",
   "metadata": {},
   "outputs": [
    {
     "name": "stdout",
     "output_type": "stream",
     "text": [
      "[b'1' b'2' b'3' b'4']\n",
      "|S1\n"
     ]
    }
   ],
   "source": [
    "import numpy as np\n",
    "arr=np.array([1,2,3,4],dtype='S')\n",
    "print(arr)\n",
    "print(arr.dtype)"
   ]
  },
  {
   "cell_type": "code",
   "execution_count": 18,
   "id": "2f7d8953-c88e-402f-acda-92c90a5eec96",
   "metadata": {},
   "outputs": [
    {
     "name": "stdout",
     "output_type": "stream",
     "text": [
      "[1 2 3 4]\n",
      "int32\n"
     ]
    }
   ],
   "source": [
    "#Create an array with data type 4 bytes integer:\n",
    "import numpy as np\n",
    "arr=np.array([1,2,3,4],dtype='i')\n",
    "print(arr)\n",
    "print(arr.dtype)"
   ]
  },
  {
   "cell_type": "code",
   "execution_count": 22,
   "id": "88c3d20b-a8e2-4749-abec-065a49938c50",
   "metadata": {},
   "outputs": [
    {
     "name": "stdout",
     "output_type": "stream",
     "text": [
      "[1. 2. 3. 4.]\n",
      "float32\n"
     ]
    }
   ],
   "source": [
    "import numpy as np\n",
    "arr=np.array([1,2,3,4],dtype='f')\n",
    "print(arr)\n",
    "print(arr.dtype)"
   ]
  },
  {
   "cell_type": "code",
   "execution_count": 26,
   "id": "f0f88289-ae81-4df4-b4b2-adf6c1b2648d",
   "metadata": {},
   "outputs": [
    {
     "name": "stdout",
     "output_type": "stream",
     "text": [
      "['1' '2' '3' '4']\n",
      "<U1\n"
     ]
    }
   ],
   "source": [
    "import numpy as np\n",
    "arr=np.array([1,2,3,4],dtype='U')\n",
    "print(arr)\n",
    "print(arr.dtype)"
   ]
  },
  {
   "cell_type": "code",
   "execution_count": 28,
   "id": "70acd963-37ca-4131-99c7-63d6046d2317",
   "metadata": {},
   "outputs": [
    {
     "name": "stdout",
     "output_type": "stream",
     "text": [
      "[1 2 3 4]\n",
      "int32\n"
     ]
    }
   ],
   "source": [
    "# Create an array with data type 4 bytes integer:\n",
    "\n",
    "import numpy as np\n",
    "\n",
    "arr = np.array([1, 2, 3, 4], dtype='i4')\n",
    "\n",
    "print(arr)\n",
    "print(arr.dtype)"
   ]
  },
  {
   "cell_type": "code",
   "execution_count": null,
   "id": "20efa3a8-1de3-4811-8c45-be1875d9c60b",
   "metadata": {},
   "outputs": [],
   "source": []
  },
  {
   "cell_type": "markdown",
   "id": "34617461-5ff3-4afe-b91f-0a8817778445",
   "metadata": {},
   "source": [
    "What if a Value Can Not Be Converted?"
   ]
  },
  {
   "cell_type": "markdown",
   "id": "37e03443-7eff-4c90-b5d7-38adfd6f23e0",
   "metadata": {},
   "source": [
    "If a type is given in which elements can't be casted then NumPy will raise a ValueError.\n",
    "\n",
    "ValueError: In Python ValueError is raised when the type of passed argument to a function is unexpected/incorrect."
   ]
  },
  {
   "cell_type": "code",
   "execution_count": 32,
   "id": "e71e1624-08be-405e-a9c6-5cedde348f19",
   "metadata": {},
   "outputs": [
    {
     "ename": "ValueError",
     "evalue": "invalid literal for int() with base 10: 'a'",
     "output_type": "error",
     "traceback": [
      "\u001b[1;31m---------------------------------------------------------------------------\u001b[0m",
      "\u001b[1;31mValueError\u001b[0m                                Traceback (most recent call last)",
      "Cell \u001b[1;32mIn[32], line 5\u001b[0m\n\u001b[0;32m      1\u001b[0m \u001b[38;5;66;03m# A non integer string like 'a' can not be converted to integer (will raise an error):\u001b[39;00m\n\u001b[0;32m      3\u001b[0m \u001b[38;5;28;01mimport\u001b[39;00m \u001b[38;5;21;01mnumpy\u001b[39;00m \u001b[38;5;28;01mas\u001b[39;00m \u001b[38;5;21;01mnp\u001b[39;00m\n\u001b[1;32m----> 5\u001b[0m arr \u001b[38;5;241m=\u001b[39m np\u001b[38;5;241m.\u001b[39marray([\u001b[38;5;124m'\u001b[39m\u001b[38;5;124ma\u001b[39m\u001b[38;5;124m'\u001b[39m, \u001b[38;5;124m'\u001b[39m\u001b[38;5;124m2\u001b[39m\u001b[38;5;124m'\u001b[39m, \u001b[38;5;124m'\u001b[39m\u001b[38;5;124m3\u001b[39m\u001b[38;5;124m'\u001b[39m], dtype\u001b[38;5;241m=\u001b[39m\u001b[38;5;124m'\u001b[39m\u001b[38;5;124mi\u001b[39m\u001b[38;5;124m'\u001b[39m)\n\u001b[0;32m      6\u001b[0m \u001b[38;5;28mprint\u001b[39m(arr)\n",
      "\u001b[1;31mValueError\u001b[0m: invalid literal for int() with base 10: 'a'"
     ]
    }
   ],
   "source": [
    "# A non integer string like 'a' can not be converted to integer (will raise an error):\n",
    "\n",
    "import numpy as np\n",
    "\n",
    "arr = np.array(['a', '2', '3'], dtype='i')\n",
    "print(arr)"
   ]
  },
  {
   "cell_type": "code",
   "execution_count": null,
   "id": "4c8dedaa-c260-4546-ab34-6ec524e2e6ff",
   "metadata": {},
   "outputs": [],
   "source": []
  },
  {
   "cell_type": "markdown",
   "id": "8c4e5f5e-93ce-4646-9993-4e2fa0fb178b",
   "metadata": {},
   "source": [
    "\n",
    "Converting Data Type on Existing Arrays"
   ]
  },
  {
   "cell_type": "markdown",
   "id": "0bd0cdcd-d452-42fc-82fd-b552e1dcd871",
   "metadata": {},
   "source": [
    "The best way to change data type of an existing array,is to make a copy of the array with the astype() method.\n",
    "\n",
    "The astype() function creates a copy of the array,and allows you to specify the data type as a parameter.\n",
    "the data type can be specified using a string ,like 'f' for float 'i' for integer etc. or you can use the data type directly like 'float' for float and 'int' for integer.\n"
   ]
  },
  {
   "cell_type": "code",
   "execution_count": 46,
   "id": "03c5a26b-05bb-40e4-858b-c098184f488a",
   "metadata": {},
   "outputs": [
    {
     "name": "stdout",
     "output_type": "stream",
     "text": [
      "int32\n",
      "[1 2 3]\n"
     ]
    }
   ],
   "source": [
    "import numpy as np\n",
    "arr=np.array([1.1,2.1,3.1])\n",
    "newarr=arr.astype('i')\n",
    "print(newarr.dtype)\n",
    "print(newarr)"
   ]
  },
  {
   "cell_type": "code",
   "execution_count": 40,
   "id": "ee133ae3-1eba-437a-a4f0-c2e81e7b999d",
   "metadata": {},
   "outputs": [
    {
     "name": "stdout",
     "output_type": "stream",
     "text": [
      "[1 2 3]\n",
      "int32\n"
     ]
    }
   ],
   "source": [
    "# Change data type from float to integer by using int as parameter value:\n",
    "\n",
    "import numpy as np\n",
    "\n",
    "arr = np.array([1.1, 2.1, 3.1])\n",
    "\n",
    "newarr = arr.astype(int)\n",
    "\n",
    "print(newarr)\n",
    "print(newarr.dtype)"
   ]
  },
  {
   "cell_type": "code",
   "execution_count": 42,
   "id": "7a2bea91-1429-484e-abd3-2a99de877938",
   "metadata": {},
   "outputs": [
    {
     "name": "stdout",
     "output_type": "stream",
     "text": [
      "[ True False  True]\n",
      "bool\n"
     ]
    }
   ],
   "source": [
    "# Change data type from integer to boolean:\n",
    "\n",
    "import numpy as np\n",
    "\n",
    "arr = np.array([1, 0, 3])\n",
    "\n",
    "newarr = arr.astype(bool)\n",
    "\n",
    "print(newarr)\n",
    "print(newarr.dtype)"
   ]
  },
  {
   "cell_type": "code",
   "execution_count": null,
   "id": "aa8bab9d-729d-489d-82ab-be58593f19cc",
   "metadata": {},
   "outputs": [],
   "source": []
  },
  {
   "cell_type": "raw",
   "id": "40176c2c-7e4d-4da6-90d9-f9d10a890b44",
   "metadata": {},
   "source": [
    "NumPy Array Copy vs View"
   ]
  },
  {
   "cell_type": "markdown",
   "id": "02bf44db-f6e4-4b82-8bb4-ba7f234a0c9a",
   "metadata": {},
   "source": [
    "The Difference Between Copy and View\n",
    "\n",
    "The main difference between a copy and a view of an array is that the copy is a new array,and the view is just a view of the original array.\n",
    "\n",
    "The copy owns the data and any changes made to the copy will not affect original array,and any changes made to the original array will not affect the copy\n",
    "\n",
    "The view does not own the data and any changes made to the view will affect the original array,and any changes made to the original array will affect the view."
   ]
  },
  {
   "cell_type": "code",
   "execution_count": 45,
   "id": "ac0334a9-ce6b-4955-a2bb-ebdf6a9af9d9",
   "metadata": {},
   "outputs": [
    {
     "name": "stdout",
     "output_type": "stream",
     "text": [
      "[ 23   2  34 566]\n",
      "[  1   2  34 566]\n"
     ]
    }
   ],
   "source": [
    "COPY:\n",
    "\n",
    "# Make a copy and change the original array and display both arrays:\n",
    "arr=np.array([1,2,34,566])\n",
    "x=arr.copy()\n",
    "arr[0]=23\n",
    "print(arr)\n",
    "print(x)"
   ]
  },
  {
   "cell_type": "markdown",
   "id": "d4b2ea48-513b-4389-b3ee-c8f8ed3b6b47",
   "metadata": {},
   "source": [
    "view:"
   ]
  },
  {
   "cell_type": "code",
   "execution_count": 48,
   "id": "91a1f5de-0730-4805-a339-440fb8f3a30a",
   "metadata": {},
   "outputs": [
    {
     "name": "stdout",
     "output_type": "stream",
     "text": [
      "[22  2  3  4  5]\n",
      "[22  2  3  4  5]\n"
     ]
    }
   ],
   "source": [
    "# make a view ,change the original array and display both arrays:\n",
    "arr=np.array([1,2,3,4,5])\n",
    "x=arr.view()\n",
    "arr[0]=22\n",
    "print(arr)\n",
    "print(x)"
   ]
  },
  {
   "cell_type": "markdown",
   "id": "66aaf799-2498-4bfc-908d-cdb6a4fc6aec",
   "metadata": {},
   "source": [
    "The view SHOULD be affected by the changes made to the original array"
   ]
  },
  {
   "cell_type": "code",
   "execution_count": null,
   "id": "f3beca9c-4d67-40de-9152-859f03880a51",
   "metadata": {},
   "outputs": [],
   "source": [
    "Make changes in the view:\n",
    "Make a view, change the view, and display both arrays:"
   ]
  },
  {
   "cell_type": "code",
   "execution_count": 51,
   "id": "683965e9-dea3-4d4f-9009-b0e95a567711",
   "metadata": {},
   "outputs": [
    {
     "name": "stdout",
     "output_type": "stream",
     "text": [
      "[22  2  3  4  5]\n",
      "[22  2  3  4  5]\n"
     ]
    }
   ],
   "source": [
    "arr=np.array([1,2,3,4,5])\n",
    "x=arr.view()\n",
    "x[0]=22\n",
    "print(arr)\n",
    "print(x)"
   ]
  },
  {
   "cell_type": "markdown",
   "id": "5159ca6f-859f-4374-b0de-f38897b26d77",
   "metadata": {},
   "source": [
    "The original array SHOULD be affected by the changes made to the view."
   ]
  },
  {
   "cell_type": "raw",
   "id": "de0977f4-4694-427c-8d2b-46d6554dab1c",
   "metadata": {},
   "source": [
    "Check if Array Owns its Data:\n"
   ]
  },
  {
   "cell_type": "markdown",
   "id": "486913dc-b923-4f8c-b238-b68ff38bd80b",
   "metadata": {},
   "source": [
    "As mentioned above,copies owns the data,and views does not owns the data but how can we check this?\n",
    "\n",
    "Every NumPy array has the attribute 'base' that returns 'None' if the array owns the data.\n",
    "\n",
    "Otherwise,the  'base ' attribute refers to the original object"
   ]
  },
  {
   "cell_type": "code",
   "execution_count": 57,
   "id": "69c451e6-c248-44e2-992b-308e2166e799",
   "metadata": {},
   "outputs": [
    {
     "name": "stdout",
     "output_type": "stream",
     "text": [
      "None\n",
      "[1 2 3 4 5]\n"
     ]
    }
   ],
   "source": [
    "arr=np.array([1,2,3,4,5])\n",
    "x=arr.copy()\n",
    "y=arr.view()\n",
    "print(x.base)\n",
    "print(y.base)\n",
    "#The copy returns None.\n",
    "# The view returns the original array.\n",
    "\n"
   ]
  },
  {
   "cell_type": "raw",
   "id": "7f0d1c75-249c-42a0-8dfb-a4057637b955",
   "metadata": {},
   "source": [
    "NumPy Array Shape"
   ]
  },
  {
   "cell_type": "markdown",
   "id": "206e1c18-cb9a-4001-93dd-b6c1a75edf6a",
   "metadata": {},
   "source": [
    "Shape of an Array:\n",
    "The shape of an array is the number of elements of each dimention."
   ]
  },
  {
   "cell_type": "code",
   "execution_count": null,
   "id": "635981b4-a7e4-45a9-822d-377e36593d04",
   "metadata": {},
   "outputs": [],
   "source": [
    "Get the Shape of an Array:\n",
    "\n",
    "NumPy arrays have an attribute called shape that returns a tuple with each index having the number of corresponding elements"
   ]
  },
  {
   "cell_type": "code",
   "execution_count": 82,
   "id": "12b40bbe-241f-418b-9ca5-6866678d69dc",
   "metadata": {},
   "outputs": [
    {
     "name": "stdout",
     "output_type": "stream",
     "text": [
      "(2, 4)\n"
     ]
    }
   ],
   "source": [
    "# print the shape of a 2-D array:\n",
    "arr = np.array([[1, 2, 3, 4], [5, 6, 7, 8]])\n",
    "print(arr.shape)\n"
   ]
  },
  {
   "cell_type": "markdown",
   "id": "92de7cbc-9dd4-43e7-840b-d8490b7f34f4",
   "metadata": {},
   "source": [
    "The example above returns (2, 4), which means that the array has 2 dimensions, where the first dimension has 2 elements and the second dimension has 4.like 2 rows with 4 colomns"
   ]
  },
  {
   "cell_type": "code",
   "execution_count": 72,
   "id": "6839070d-d644-49fc-b407-b748056b91ca",
   "metadata": {},
   "outputs": [
    {
     "name": "stdout",
     "output_type": "stream",
     "text": [
      "5\n",
      "[[[[[ 2  1  2 34 45]]]]]\n",
      "shape of an array (1, 1, 1, 1, 5)\n"
     ]
    }
   ],
   "source": [
    "# Create an array with 5 dimensions using ndmin using a vector with values 1,2,3,4 and verify that last dimension has value 4:\n",
    "arr=np.array([2,1,2,34,45] ,ndmin=5)\n",
    "print(arr.ndim)\n",
    "print(arr)\n",
    "print('shape of an array',arr.shape)"
   ]
  },
  {
   "cell_type": "markdown",
   "id": "17acad99-e456-49d4-a327-c48c7833d4ba",
   "metadata": {},
   "source": [
    "What does the shape tuple represent?\n",
    "\n",
    "Integers at every index tells about the number of elements the corresponding dimension has.\n",
    "\n",
    "In the example above at index-4 we have value 4, so we can say that 5th ( 4 + 1 th) dimension has 4 elements."
   ]
  },
  {
   "cell_type": "code",
   "execution_count": null,
   "id": "01670823-be4c-4685-b0dd-bba334529ed8",
   "metadata": {},
   "outputs": [],
   "source": [
    "NumPy Arrays Reshaping"
   ]
  },
  {
   "cell_type": "code",
   "execution_count": null,
   "id": "0afed64b-f74f-436f-8e8d-4689039b18a0",
   "metadata": {},
   "outputs": [],
   "source": [
    "Reshaping arrays:\n",
    "\n",
    "1.Reshape means changing the shape of an array.\n",
    "2.The shape of an array is the number of elements in each dimension\n",
    "By reshaping we can add or remove dimensions or change number of elements in each dimension.\n"
   ]
  },
  {
   "cell_type": "raw",
   "id": "5bbe5ceb-fe30-4c18-b202-ed324ab463e4",
   "metadata": {},
   "source": [
    "Reshape From 1-D to 2-D"
   ]
  },
  {
   "cell_type": "code",
   "execution_count": 88,
   "id": "e3366c41-34c0-40c2-ad32-64d652fa85ec",
   "metadata": {},
   "outputs": [
    {
     "name": "stdout",
     "output_type": "stream",
     "text": [
      "[[ 1  2  3]\n",
      " [ 4  5  6]\n",
      " [ 7  8  9]\n",
      " [10 11 12]]\n"
     ]
    }
   ],
   "source": [
    "# Convert the following 1-D array with 12 elements into a 2-D array.\n",
    "\n",
    "# The outermost dimension will have 4 arrays, each with 3 elements:\n",
    "arr = np.array([1, 2, 3, 4, 5, 6, 7, 8, 9, 10, 11, 12])\n",
    "newarr=arr.reshape(4,3)\n",
    "print(newarr)"
   ]
  },
  {
   "cell_type": "code",
   "execution_count": null,
   "id": "a3589cde-8f61-44fc-a113-1862ffe2c60a",
   "metadata": {},
   "outputs": [],
   "source": [
    "Reshape From 1-D to 3-D"
   ]
  },
  {
   "cell_type": "code",
   "execution_count": 90,
   "id": "14c214c0-a371-4a5f-910b-49820f3f7c71",
   "metadata": {},
   "outputs": [
    {
     "name": "stdout",
     "output_type": "stream",
     "text": [
      "[[[ 1  2]\n",
      "  [ 3  4]\n",
      "  [ 5  6]]\n",
      "\n",
      " [[ 7  8]\n",
      "  [ 9 10]\n",
      "  [11 12]]]\n"
     ]
    }
   ],
   "source": [
    "# Convert the following 1-D arraywith 12 elements into a 3-D array.\n",
    "\n",
    "# The outermost dimension will have 2 arrays that contains 3 arrays, each with 2 elements:\n",
    "\n",
    "arr = np.array([1, 2, 3, 4, 5, 6, 7, 8, 9, 10, 11, 12])\n",
    "\n",
    "newarr = arr.reshape(2, 3, 2)\n",
    "\n",
    "print(newarr)"
   ]
  },
  {
   "cell_type": "markdown",
   "id": "4e31cd25-2510-4044-8730-55ff9c39ac6f",
   "metadata": {},
   "source": [
    "Can we reshape into any shape ?\n",
    "\n",
    "\n",
    "yes,as long as the elements required for reshaping are wqual in both shapes.\n",
    "We can reshape an 8 elements 1D array into 4 elements in 2 rows 2D array but we cannot reshape it into a 3 elements 3 rows 2D array as that would require 3x3 = 9 elements.\n",
    "\n"
   ]
  },
  {
   "cell_type": "code",
   "execution_count": 107,
   "id": "354a26fc-f670-467b-b80c-b902468d56f5",
   "metadata": {},
   "outputs": [
    {
     "ename": "ValueError",
     "evalue": "cannot reshape array of size 8 into shape (3,3)",
     "output_type": "error",
     "traceback": [
      "\u001b[1;31m---------------------------------------------------------------------------\u001b[0m",
      "\u001b[1;31mValueError\u001b[0m                                Traceback (most recent call last)",
      "Cell \u001b[1;32mIn[107], line 5\u001b[0m\n\u001b[0;32m      1\u001b[0m \u001b[38;5;28;01mimport\u001b[39;00m \u001b[38;5;21;01mnumpy\u001b[39;00m \u001b[38;5;28;01mas\u001b[39;00m \u001b[38;5;21;01mnp\u001b[39;00m\n\u001b[0;32m      3\u001b[0m arr \u001b[38;5;241m=\u001b[39m np\u001b[38;5;241m.\u001b[39marray([\u001b[38;5;241m1\u001b[39m, \u001b[38;5;241m2\u001b[39m, \u001b[38;5;241m3\u001b[39m,  \u001b[38;5;241m5\u001b[39m, \u001b[38;5;241m6\u001b[39m, \u001b[38;5;241m8\u001b[39m,\u001b[38;5;241m2\u001b[39m,\u001b[38;5;241m2\u001b[39m])\n\u001b[1;32m----> 5\u001b[0m newarr \u001b[38;5;241m=\u001b[39m arr\u001b[38;5;241m.\u001b[39mreshape(\u001b[38;5;241m3\u001b[39m,\u001b[38;5;241m3\u001b[39m )\n\u001b[0;32m      7\u001b[0m \u001b[38;5;28mprint\u001b[39m(newarr)\n",
      "\u001b[1;31mValueError\u001b[0m: cannot reshape array of size 8 into shape (3,3)"
     ]
    }
   ],
   "source": [
    "import numpy as np\n",
    "\n",
    "arr = np.array([1, 2, 3,  5, 6, 8,2,2])\n",
    "\n",
    "newarr = arr.reshape(3,3 )\n",
    "\n",
    "print(newarr)"
   ]
  },
  {
   "cell_type": "code",
   "execution_count": null,
   "id": "f50db25c-3649-481d-bb8b-2e8d19638d32",
   "metadata": {},
   "outputs": [],
   "source": [
    "Returns Copy or View?\n",
    "Example"
   ]
  },
  {
   "cell_type": "code",
   "execution_count": 379,
   "id": "0e0add74-81dd-4e35-a9ba-4e40cfebe9cd",
   "metadata": {},
   "outputs": [
    {
     "name": "stdout",
     "output_type": "stream",
     "text": [
      "[ 1  2  3  4  3  5  3  5 55  4]\n"
     ]
    }
   ],
   "source": [
    "# check if the returned array is copy or view\n",
    "import numpy as np\n",
    "arr=np.array([1,2,3,4,3,5,3,5,55,4])\n",
    "print(arr.reshape(2,5).base)"
   ]
  },
  {
   "cell_type": "markdown",
   "id": "a501afba-2f2c-48b7-b96e-c1e4bd12f28f",
   "metadata": {},
   "source": [
    "The example above returns the original array, so it is a view."
   ]
  },
  {
   "cell_type": "code",
   "execution_count": null,
   "id": "ef883ce0-fbfb-4ae3-bd66-d17f26f69cfa",
   "metadata": {},
   "outputs": [],
   "source": [
    "Unknown Dimension"
   ]
  },
  {
   "cell_type": "markdown",
   "id": "2d64fa44-7906-474b-9dea-7098856becb7",
   "metadata": {},
   "source": [
    "you are allowed to have one \"unknown\" dimension.\n",
    "\n",
    "Meaning that you do not have to specify an exact number for one of the dimensions in the reshape method\n",
    "\n",
    "pass \"-1\" as the value and Numpy will calculate this number for you "
   ]
  },
  {
   "cell_type": "code",
   "execution_count": 117,
   "id": "1bbad607-db6f-49fc-95cb-54e3a9c3983c",
   "metadata": {},
   "outputs": [
    {
     "name": "stdout",
     "output_type": "stream",
     "text": [
      "[[[1 2]\n",
      "  [3 4]]\n",
      "\n",
      " [[5 6]\n",
      "  [7 8]]]\n"
     ]
    }
   ],
   "source": [
    "\n",
    "# Convert 1D array with 8 elements to 3D array with 2x2 elements:\n",
    "arr=np.array([1,2,3,4,5,6,7,8])\n",
    "newarr=arr.reshape(2,2,-1)\n",
    "print(newarr)"
   ]
  },
  {
   "cell_type": "markdown",
   "id": "569bdd1b-c007-4013-9556-1ef2da727b9e",
   "metadata": {},
   "source": [
    "Note: We can not pass -1 to more than one dimension."
   ]
  },
  {
   "cell_type": "code",
   "execution_count": null,
   "id": "f8e41edc-e6f9-414f-8fcd-f0602d4781f6",
   "metadata": {},
   "outputs": [],
   "source": [
    "Flattening the arrays"
   ]
  },
  {
   "cell_type": "code",
   "execution_count": null,
   "id": "d056126a-6c75-4a34-846a-ddebdbb6b5f8",
   "metadata": {},
   "outputs": [],
   "source": [
    "flattening array means converting a multidimensional array into 1D array.\n",
    "we can reshape(-1) to do this."
   ]
  },
  {
   "cell_type": "code",
   "execution_count": 122,
   "id": "bf58f245-aad6-43d1-b7e4-069ef9cd6e0d",
   "metadata": {},
   "outputs": [
    {
     "name": "stdout",
     "output_type": "stream",
     "text": [
      "[1 2 3 3 4 5]\n"
     ]
    }
   ],
   "source": [
    "import numpy as np\n",
    "arr= np.array([[1,2,3],[3,4,5]])\n",
    "newarr=arr.reshape(-1)\n",
    "print(newarr)"
   ]
  },
  {
   "cell_type": "code",
   "execution_count": 130,
   "id": "dc7ad045-a3c4-44c6-bcd4-0e1a2df154b4",
   "metadata": {},
   "outputs": [
    {
     "name": "stdout",
     "output_type": "stream",
     "text": [
      "[1 2 3 3 4 5]\n"
     ]
    }
   ],
   "source": [
    "import numpy as np\n",
    "arr= np.array([[1,2,3],[3,4,5]])\n",
    "newarr=arr.reshape(-1)\n",
    "print(newarr)"
   ]
  },
  {
   "cell_type": "code",
   "execution_count": null,
   "id": "4804f341-301e-44c8-ad03-36d0943f8a85",
   "metadata": {},
   "outputs": [],
   "source": []
  },
  {
   "cell_type": "raw",
   "id": "c761dd29-b743-421e-bd04-676ed9054be9",
   "metadata": {},
   "source": [
    "*NumPy Array Iterating:"
   ]
  },
  {
   "cell_type": "markdown",
   "id": "666dd107-814f-464b-915d-ce187d87af0f",
   "metadata": {},
   "source": [
    "Iterating Arrays:\n",
    "\n",
    "Iterating means going through elements one by one.\n",
    "\n",
    "As we deal with multi-dimentional arrays in NumPy,we can do this using basic for loop of python\n",
    "\n",
    "If we go through 1-D array it will go through each element one by one."
   ]
  },
  {
   "cell_type": "code",
   "execution_count": 7,
   "id": "a4f2cf17-a64b-440b-a64a-6e4ac5d2a17a",
   "metadata": {},
   "outputs": [
    {
     "name": "stdout",
     "output_type": "stream",
     "text": [
      "1\n",
      "2\n",
      "3\n",
      "4\n"
     ]
    }
   ],
   "source": [
    "\"iterate an elements of the following 1-D array:\"\n",
    "\n",
    "import numpy as np\n",
    "arr=np.array([1,2,3,4])\n",
    "for x in arr:\n",
    "    print(x)"
   ]
  },
  {
   "cell_type": "markdown",
   "id": "7567a05d-8548-4398-8d6f-d84ab4c5243f",
   "metadata": {},
   "source": [
    "Iteratig 2-D Arrays"
   ]
  },
  {
   "cell_type": "code",
   "execution_count": 9,
   "id": "d1a663ab-728a-4b3d-a859-21128f826383",
   "metadata": {},
   "outputs": [
    {
     "name": "stdout",
     "output_type": "stream",
     "text": [
      "[1 2 3]\n",
      "[4 5 6]\n"
     ]
    }
   ],
   "source": [
    "#In  2-D it will go through  all the rows\n",
    "arr = np.array([[1, 2, 3], [4, 5, 6]])\n",
    "for i in arr:\n",
    "    print(i)\n"
   ]
  },
  {
   "cell_type": "markdown",
   "id": "bd6b9980-9ba4-42ea-ac06-3905e5610054",
   "metadata": {},
   "source": [
    "If we iterate on a n-D array it will go through n-1th dimension one by one."
   ]
  },
  {
   "cell_type": "code",
   "execution_count": 383,
   "id": "6649b054-2cea-4466-b0ae-0eec7603397e",
   "metadata": {},
   "outputs": [
    {
     "name": "stdout",
     "output_type": "stream",
     "text": [
      "3\n",
      "2\n",
      "1\n",
      "2\n",
      "3\n",
      "4\n"
     ]
    }
   ],
   "source": [
    "#iterate on each scalar element of the 2-D array\n",
    "\n",
    "arr=np.array([[3,2,1],[2,3,4]])\n",
    "for i in arr:\n",
    "    for j in i:\n",
    "        print(j)"
   ]
  },
  {
   "cell_type": "code",
   "execution_count": null,
   "id": "fb46c7f7-11ea-48b0-8635-42b01723a65f",
   "metadata": {},
   "outputs": [],
   "source": [
    "Iterating 3-D Arrays:"
   ]
  },
  {
   "cell_type": "markdown",
   "id": "0ed1ea0c-de4c-413a-9fd1-2b696e8f4fd6",
   "metadata": {},
   "source": [
    "In 3-D array it will go through all the 2-D Arrays"
   ]
  },
  {
   "cell_type": "code",
   "execution_count": null,
   "id": "cba2a0cc-54ec-4dc2-b5d2-470da8fca87c",
   "metadata": {},
   "outputs": [],
   "source": [
    "# Iterate on the elements of the following 3-D array:"
   ]
  },
  {
   "cell_type": "code",
   "execution_count": 17,
   "id": "b61aa8b4-d2ba-4e32-9091-b1f7b0430f09",
   "metadata": {},
   "outputs": [
    {
     "name": "stdout",
     "output_type": "stream",
     "text": [
      "1\n",
      "2\n",
      "3\n",
      "44\n",
      "2\n",
      "3\n",
      "4\n",
      "4\n",
      "2\n",
      "4\n",
      "4\n",
      "4\n",
      "4\n",
      "42\n",
      "4\n",
      "24\n"
     ]
    }
   ],
   "source": [
    "#iterate down to scalars\n",
    "import numpy as np\n",
    "arr=np.array([[[1,2,3,44],[2,3,4,4]],[[2,4,4,4],[4,42,4,24]]])\n",
    "for i in arr:\n",
    "    for j in i:\n",
    "        for k in j:\n",
    "            print(k)"
   ]
  },
  {
   "cell_type": "code",
   "execution_count": 19,
   "id": "ce4f0e51-54ce-4ff9-bca0-ca71a5547a52",
   "metadata": {},
   "outputs": [
    {
     "name": "stdout",
     "output_type": "stream",
     "text": [
      "[[ 1  2  3 44]\n",
      " [ 2  3  4  4]]\n",
      "[[ 2  4  4  4]\n",
      " [ 4 42  4 24]]\n"
     ]
    }
   ],
   "source": [
    "arr=np.array([[[1,2,3,44],[2,3,4,4]],[[2,4,4,4],[4,42,4,24]]])\n",
    "for i in arr:\n",
    "    print(i)"
   ]
  },
  {
   "cell_type": "code",
   "execution_count": null,
   "id": "3036868b-4896-4c24-8e93-88a06c2023dc",
   "metadata": {},
   "outputs": [],
   "source": []
  },
  {
   "cell_type": "code",
   "execution_count": null,
   "id": "0072044c-f4a5-41e0-9572-8c4761da3ea4",
   "metadata": {},
   "outputs": [],
   "source": [
    "**Itarating Arrays Using nditer():"
   ]
  },
  {
   "cell_type": "markdown",
   "id": "16d76fb3-7d7f-4a8e-a48a-6db6fea09c2e",
   "metadata": {},
   "source": [
    "The function nditer() function is helping function that can be used from very basic to very advanced iterations .\n",
    "\n",
    "It solves some basic isses which we face in iteration ,lets go through it with exapmles"
   ]
  },
  {
   "cell_type": "code",
   "execution_count": null,
   "id": "2488d2cf-b2d4-4972-a2d8-6dca6929e638",
   "metadata": {},
   "outputs": [],
   "source": [
    "**Iterating on Each Scalar Element:"
   ]
  },
  {
   "cell_type": "code",
   "execution_count": null,
   "id": "c1732080-574a-4372-8666-0a0d5c7b0cea",
   "metadata": {},
   "outputs": [],
   "source": [
    "In basic for loops ,ietarting through each scalar of an array we need to use n for lops which can be difficult to write for arrays with very high dimentionality"
   ]
  },
  {
   "cell_type": "code",
   "execution_count": 26,
   "id": "db49bf3f-0c59-4091-a724-86c644134628",
   "metadata": {},
   "outputs": [
    {
     "name": "stdout",
     "output_type": "stream",
     "text": [
      "1\n",
      "2\n",
      "2\n",
      "3\n",
      "2\n",
      "4\n",
      "4\n",
      "5\n"
     ]
    }
   ],
   "source": [
    "#Iterate through the following 3-D array:\n",
    "\n",
    "arr=np.array([[[1,2],[2,3]],[[2,4],[4,5]]])\n",
    "for i in np.nditer(arr):\n",
    "    print(i)"
   ]
  },
  {
   "cell_type": "code",
   "execution_count": null,
   "id": "9ddc3950-f7f5-4cdf-9a3b-ee7edcda356d",
   "metadata": {},
   "outputs": [],
   "source": [
    "*Itarating array with different Data Types*"
   ]
  },
  {
   "cell_type": "markdown",
   "id": "19036420-71f1-4f3c-86ce-5b3dabea863e",
   "metadata": {},
   "source": [
    "we can use op_dtype arguement and pass it the expected if the expected datatype to change the datatype of elements while itarating.\n",
    "\n",
    "NumPy does not chnage the datatype of the element in place(where the element is in array) so it needs some other space to perform this action ,extra space is called \"buffer\"  ,and in order to enable it in \"nditer()\" we pass flags=['buffered']"
   ]
  },
  {
   "cell_type": "code",
   "execution_count": 58,
   "id": "f6e1f958-06d3-4475-93a7-6c73d22e1b03",
   "metadata": {},
   "outputs": [
    {
     "name": "stdout",
     "output_type": "stream",
     "text": [
      "1 generic time units\n",
      "2 generic time units\n",
      "3 generic time units\n"
     ]
    }
   ],
   "source": [
    "# Iterate through the as a String\n",
    "\n",
    "import numpy as np\n",
    "\n",
    "arr=np.array([1,2,3])\n",
    "for i in np.nditer(arr,flags=['buffered'],op_dtypes=['m']):\n",
    "    print(i)"
   ]
  },
  {
   "cell_type": "code",
   "execution_count": 60,
   "id": "cc0b84d7-564a-47eb-ad05-ddf0e892c436",
   "metadata": {},
   "outputs": [
    {
     "name": "stdout",
     "output_type": "stream",
     "text": [
      "b'1'\n",
      "b'2'\n",
      "b'3'\n"
     ]
    }
   ],
   "source": [
    "import numpy as np\n",
    "\n",
    "arr=np.array([1,2,3])\n",
    "for i in np.nditer(arr,flags=['buffered'],op_dtypes=['S']):\n",
    "    print(i)"
   ]
  },
  {
   "cell_type": "raw",
   "id": "ad7f81b1-6d82-4dfb-b9e9-2fc794a819b5",
   "metadata": {},
   "source": [
    "Iterating with Different step size"
   ]
  },
  {
   "cell_type": "markdown",
   "id": "3e60aa02-141e-43ab-ba33-6b9e7b219107",
   "metadata": {},
   "source": [
    "we can use filtering and followed by iteration."
   ]
  },
  {
   "cell_type": "code",
   "execution_count": 35,
   "id": "7e6d9478-1ae0-4200-a13b-d93b47887b3a",
   "metadata": {},
   "outputs": [
    {
     "name": "stdout",
     "output_type": "stream",
     "text": [
      "1\n",
      "3\n",
      "5\n",
      "6\n"
     ]
    }
   ],
   "source": [
    "# Iterate through every scalar element of the 2D array skipping 1 element:\n",
    "\n",
    "arr=np.array([[1,2,3,4],[5,6,6,6]])\n",
    "for i in np.nditer(arr[:,::2]):\n",
    "    print(i)"
   ]
  },
  {
   "cell_type": "code",
   "execution_count": 79,
   "id": "e66abc37-d1d2-49c8-9547-a5274909b4bd",
   "metadata": {},
   "outputs": [
    {
     "name": "stdout",
     "output_type": "stream",
     "text": [
      "3\n",
      "5\n",
      "5\n",
      "4\n",
      "5\n",
      "4\n"
     ]
    }
   ],
   "source": [
    "arr=np.array([[2,3,44,5,55,5],[2,4,55,5,5,4]])\n",
    "for i in np.nditer(arr[0:2,1:6:2]):# 0 difines starting array and 2 is ending in 2D  and 1:6:2 1 deffines staring element and 6 is ending and step is skips\n",
    "    print(i)"
   ]
  },
  {
   "cell_type": "code",
   "execution_count": null,
   "id": "2fbc6b9e-cf3f-4f4e-86b7-dd91e8f2590e",
   "metadata": {},
   "outputs": [],
   "source": [
    "**Enumerated Iteration Using ndenumerate()**"
   ]
  },
  {
   "cell_type": "markdown",
   "id": "2b801788-9380-4efa-b7c2-0ce186bfc0ab",
   "metadata": {},
   "source": [
    "Enumaration means mentioning sequence number of somethings one by one .\n",
    "\n",
    "sometimes we require corresponding index of elements while iterating,the 'ndenumerate()' method can be used for those usecases."
   ]
  },
  {
   "cell_type": "code",
   "execution_count": null,
   "id": "70ed5ccd-33f0-4f14-89d2-85a86682c6dc",
   "metadata": {},
   "outputs": [],
   "source": [
    "Enumerate on following 1D arrays elements:"
   ]
  },
  {
   "cell_type": "code",
   "execution_count": 88,
   "id": "a378b0c8-443f-4860-aea6-dd589c705b13",
   "metadata": {},
   "outputs": [
    {
     "name": "stdout",
     "output_type": "stream",
     "text": [
      "(0,) 1\n",
      "(1,) 3\n",
      "(2,) 34\n",
      "(3,) 5\n",
      "(4,) 5\n",
      "(5,) 6\n",
      "(6,) 6\n"
     ]
    }
   ],
   "source": [
    "arr=np.array([1,3,34,5,5,6,6])\n",
    "for idx,i in np.ndenumerate(arr):\n",
    "    print(idx,i)"
   ]
  },
  {
   "cell_type": "code",
   "execution_count": null,
   "id": "cbc11902-8ced-4baa-b30b-c2e4b1aa0c7f",
   "metadata": {},
   "outputs": [],
   "source": [
    "Enumerate on following 2D array's elements:"
   ]
  },
  {
   "cell_type": "code",
   "execution_count": 90,
   "id": "00acb4d2-9166-4293-9dfe-ed7978653693",
   "metadata": {},
   "outputs": [
    {
     "name": "stdout",
     "output_type": "stream",
     "text": [
      "(0, 0) 1\n",
      "(0, 1) 2\n",
      "(0, 2) 3\n",
      "(0, 3) 4\n",
      "(1, 0) 2\n",
      "(1, 1) 4\n",
      "(1, 2) 45\n",
      "(1, 3) 55\n"
     ]
    }
   ],
   "source": [
    "arr=np.array([[1,2,3,4],[2,4,45,55]])\n",
    "for idx,i in np.ndenumerate(arr):\n",
    "    print(idx,i)"
   ]
  },
  {
   "cell_type": "code",
   "execution_count": null,
   "id": "ff09d8f2-0841-4015-8373-265de665bbe0",
   "metadata": {},
   "outputs": [],
   "source": []
  },
  {
   "cell_type": "code",
   "execution_count": null,
   "id": "68860e54-9cd5-4f51-8b80-7ce6a014a9fe",
   "metadata": {},
   "outputs": [],
   "source": [
    "            \"Joing NumPy Arrays\""
   ]
  },
  {
   "cell_type": "markdown",
   "id": "aba8424c-7fdd-4003-ba24-ac74c694a28e",
   "metadata": {},
   "source": [
    "Joining means putting contents of one or more arrays in single array.\n",
    "\n",
    "In Sql,we join tables based on a key,in numpy  we join arrays by axis.\n",
    "\n",
    "We pass a sequence of arrays that we want to join to the 'concatenete()' function,along with the sxis ,If axis is not exlpicitly passed ,it taken as 0. "
   ]
  },
  {
   "cell_type": "code",
   "execution_count": null,
   "id": "04199207-dc1b-4773-9e17-1a7777edd971",
   "metadata": {},
   "outputs": [],
   "source": [
    "#join two arrays"
   ]
  },
  {
   "cell_type": "code",
   "execution_count": 99,
   "id": "3b3d9b65-9876-49ed-9b52-cf183801abea",
   "metadata": {},
   "outputs": [
    {
     "name": "stdout",
     "output_type": "stream",
     "text": [
      "[ 1  2  4 45  3  6  6  3  4  5  6  6  6 77]\n"
     ]
    }
   ],
   "source": [
    "arr1=np.array([1,2,4,45,3,6,6])\n",
    "arr2=np.array([3,4,5,6,6,6,77])\n",
    "arr=np.concatenate((arr1,arr2))\n",
    "print(arr)"
   ]
  },
  {
   "cell_type": "code",
   "execution_count": null,
   "id": "8a523ff4-2993-4a9b-8f52-e4e3c75233b7",
   "metadata": {},
   "outputs": [],
   "source": [
    "# Join two 2-D arrays along rows (axis=1):"
   ]
  },
  {
   "cell_type": "code",
   "execution_count": 65,
   "id": "dc6b47f6-1468-4124-b01a-96bade0cbab4",
   "metadata": {},
   "outputs": [
    {
     "name": "stdout",
     "output_type": "stream",
     "text": [
      "[[ 1  2  3  3  2  2  3  4]\n",
      " [ 2  3  4  4 32  3 32 32]]\n"
     ]
    }
   ],
   "source": [
    "arr1=np.array([[1,2,3,3],[2,3,4,4]])\n",
    "arr2=np.array([[2,2,3,4],[32,3,32,32]])\n",
    "\n",
    "arr=np.concatenate((arr1,arr2),axis=1) #axis=1 means 2-D\n",
    "print(arr)"
   ]
  },
  {
   "cell_type": "code",
   "execution_count": 125,
   "id": "59e3a5a6-d785-4f32-945a-996e56b798d1",
   "metadata": {},
   "outputs": [
    {
     "name": "stdout",
     "output_type": "stream",
     "text": [
      "[[[ 1  2  3  3  2  2  3  4  1  2  3  3]\n",
      "  [ 2  3  4  4 32  3 32 32  2  3  4  4]]]\n"
     ]
    }
   ],
   "source": [
    "arr1=np.array([[[1,2,3,3],[2,3,4,4]]])\n",
    "arr2=np.array([[[2,2,3,4],[32,3,32,32]]])\n",
    "arr3=np.array([[[1,2,3,3],[2,3,4,4]]])\n",
    "arr=np.concatenate((arr1,arr2,arr3),axis=2) axis =2 means 3-D\n",
    "print(arr)"
   ]
  },
  {
   "cell_type": "code",
   "execution_count": null,
   "id": "ff8c5938-e325-4727-bfac-454cf82d8ab5",
   "metadata": {},
   "outputs": [],
   "source": [
    "\"Joining Arrays Using Stack Functions\""
   ]
  },
  {
   "cell_type": "markdown",
   "id": "b8e528a2-c507-49c9-b14a-41554808feaf",
   "metadata": {},
   "source": [
    "Stacking is same as concatination,the only difference is that stacking is done along a new axis.\n",
    "\n",
    "we can concatenate two 1-D arrays along the second axis wolud resut in putting them one over the other ie. stacking\n",
    "\n",
    "we pass the sequence of arrays thet we want to join to the stack() method along with the axis .If the axis is not explicitly passed it is taken as 0."
   ]
  },
  {
   "cell_type": "code",
   "execution_count": 391,
   "id": "a4ac3fb2-d1f2-4830-8fca-35e7e3bb8710",
   "metadata": {},
   "outputs": [
    {
     "name": "stdout",
     "output_type": "stream",
     "text": [
      "[[1 4]\n",
      " [2 5]\n",
      " [3 6]]\n"
     ]
    }
   ],
   "source": [
    "arr1=np.array([1,2,3])\n",
    "arr2=np.array([4,5,6])\n",
    "arr=np.stack((arr1,arr2),axis=1)\n",
    "print(arr)"
   ]
  },
  {
   "cell_type": "code",
   "execution_count": null,
   "id": "028632c8-c543-4a99-abf0-808df4977626",
   "metadata": {},
   "outputs": [],
   "source": [
    "Stacking Along Rows(horizontally)"
   ]
  },
  {
   "cell_type": "markdown",
   "id": "51a8d275-42fe-4226-9239-9c49dd6e8a37",
   "metadata": {},
   "source": [
    "NumPy provides a helper function:hstack() to stack along rows.\n"
   ]
  },
  {
   "cell_type": "code",
   "execution_count": 133,
   "id": "758b9c82-8f38-4a10-b322-b2268a73f37e",
   "metadata": {},
   "outputs": [
    {
     "name": "stdout",
     "output_type": "stream",
     "text": [
      "[1 2 3 4 5 6]\n"
     ]
    }
   ],
   "source": [
    "arr1=np.array([1,2,3])\n",
    "arr2=np.array([4,5,6])\n",
    "arr=np.hstack((arr1,arr2))\n",
    "print(arr)"
   ]
  },
  {
   "cell_type": "code",
   "execution_count": 157,
   "id": "e3fb0a2c-713c-448d-94d5-980b35220031",
   "metadata": {},
   "outputs": [
    {
     "name": "stdout",
     "output_type": "stream",
     "text": [
      "[1 2 3 4 5 3 6]\n"
     ]
    }
   ],
   "source": [
    "arr1 = np.array([1, 2, 3])\n",
    "\n",
    "arr2 = np.array([4, 5,3, 6])\n",
    "\n",
    "arr = np.hstack((arr1, arr2))\n",
    "\n",
    "print(arr)"
   ]
  },
  {
   "cell_type": "code",
   "execution_count": null,
   "id": "7ff86b70-7a6c-42c8-88ca-ff16814d52b4",
   "metadata": {},
   "outputs": [],
   "source": [
    "Stacking Along Columns(vertically)"
   ]
  },
  {
   "cell_type": "markdown",
   "id": "fe74f452-2e29-49a7-a910-7253eb0831aa",
   "metadata": {},
   "source": [
    "NumPy provides a helper function :' vstack() ' to stack columns"
   ]
  },
  {
   "cell_type": "code",
   "execution_count": 144,
   "id": "97a41af8-fb80-4fcf-ad4e-e66de09934d5",
   "metadata": {},
   "outputs": [
    {
     "name": "stdout",
     "output_type": "stream",
     "text": [
      "[[1 2 3]\n",
      " [4 5 6]]\n"
     ]
    }
   ],
   "source": [
    "arr1 = np.array([1, 2, 3])\n",
    "\n",
    "arr2 = np.array([4, 5, 6])\n",
    "\n",
    "arr = np.vstack((arr1, arr2))\n",
    "\n",
    "print(arr)"
   ]
  },
  {
   "cell_type": "code",
   "execution_count": 155,
   "id": "6581ef5b-f0f0-4369-a703-7d585ae65ac9",
   "metadata": {},
   "outputs": [
    {
     "ename": "ValueError",
     "evalue": "all the input array dimensions except for the concatenation axis must match exactly, but along dimension 1, the array at index 0 has size 4 and the array at index 1 has size 3",
     "output_type": "error",
     "traceback": [
      "\u001b[1;31m---------------------------------------------------------------------------\u001b[0m",
      "\u001b[1;31mValueError\u001b[0m                                Traceback (most recent call last)",
      "Cell \u001b[1;32mIn[155], line 4\u001b[0m\n\u001b[0;32m      1\u001b[0m arr1 \u001b[38;5;241m=\u001b[39m np\u001b[38;5;241m.\u001b[39marray([\u001b[38;5;241m1\u001b[39m, \u001b[38;5;241m2\u001b[39m, \u001b[38;5;241m3\u001b[39m,\u001b[38;5;241m3\u001b[39m])\n\u001b[0;32m      3\u001b[0m arr2 \u001b[38;5;241m=\u001b[39m np\u001b[38;5;241m.\u001b[39marray([\u001b[38;5;241m4\u001b[39m, \u001b[38;5;241m5\u001b[39m, \u001b[38;5;241m6\u001b[39m])\n\u001b[1;32m----> 4\u001b[0m arr \u001b[38;5;241m=\u001b[39m np\u001b[38;5;241m.\u001b[39mvstack((arr1, arr2))\n\u001b[0;32m      6\u001b[0m \u001b[38;5;28mprint\u001b[39m(arr)\n",
      "File \u001b[1;32m~\\anaconda3\\Lib\\site-packages\\numpy\\core\\shape_base.py:289\u001b[0m, in \u001b[0;36mvstack\u001b[1;34m(tup, dtype, casting)\u001b[0m\n\u001b[0;32m    287\u001b[0m \u001b[38;5;28;01mif\u001b[39;00m \u001b[38;5;129;01mnot\u001b[39;00m \u001b[38;5;28misinstance\u001b[39m(arrs, \u001b[38;5;28mlist\u001b[39m):\n\u001b[0;32m    288\u001b[0m     arrs \u001b[38;5;241m=\u001b[39m [arrs]\n\u001b[1;32m--> 289\u001b[0m \u001b[38;5;28;01mreturn\u001b[39;00m _nx\u001b[38;5;241m.\u001b[39mconcatenate(arrs, \u001b[38;5;241m0\u001b[39m, dtype\u001b[38;5;241m=\u001b[39mdtype, casting\u001b[38;5;241m=\u001b[39mcasting)\n",
      "\u001b[1;31mValueError\u001b[0m: all the input array dimensions except for the concatenation axis must match exactly, but along dimension 1, the array at index 0 has size 4 and the array at index 1 has size 3"
     ]
    }
   ],
   "source": [
    "arr1 = np.array([1, 2, 3,3])\n",
    "\n",
    "arr2 = np.array([4, 5, 6])\n",
    "arr = np.vstack((arr1, arr2))\n",
    "\n",
    "print(arr)"
   ]
  },
  {
   "cell_type": "code",
   "execution_count": null,
   "id": "dfe49bc4-740d-4cde-891f-0f0da9951097",
   "metadata": {},
   "outputs": [],
   "source": [
    "Stacking Along Height (depth)"
   ]
  },
  {
   "cell_type": "markdown",
   "id": "8844cbc9-6e02-47a2-9a7d-47673f82034e",
   "metadata": {},
   "source": [
    "NumPy provides a helper function: dstack() to stack along height, which is the same as depth."
   ]
  },
  {
   "cell_type": "code",
   "execution_count": 147,
   "id": "4ffb9f66-d384-496b-aa22-f5f788af8dbd",
   "metadata": {},
   "outputs": [
    {
     "name": "stdout",
     "output_type": "stream",
     "text": [
      "[[[1 4]\n",
      "  [2 5]\n",
      "  [3 6]]]\n"
     ]
    }
   ],
   "source": [
    "arr1 = np.array([1, 2, 3])\n",
    "\n",
    "arr2 = np.array([4, 5, 6])\n",
    "\n",
    "arr = np.dstack((arr1, arr2))\n",
    "\n",
    "print(arr)"
   ]
  },
  {
   "cell_type": "code",
   "execution_count": null,
   "id": "5919a64b-5c0f-4e2f-af04-d96877792cfa",
   "metadata": {},
   "outputs": [],
   "source": [
    "    \"NumPy Sliptting Array\""
   ]
  },
  {
   "cell_type": "markdown",
   "id": "85b4d176-5ce7-45f3-bb84-a31228502a59",
   "metadata": {},
   "source": [
    "splitting is reverse operation of joins\n",
    "\n",
    "joining merges multiple arrays into one array and splitting is breaks the single array into multiple arrays.\n",
    "\n",
    "we use ' array_split()' for splitting array ,we pass it the array we want to split and the number of splits."
   ]
  },
  {
   "cell_type": "code",
   "execution_count": 160,
   "id": "63c0802a-7b93-4123-8ef9-abddc4204a6b",
   "metadata": {},
   "outputs": [
    {
     "name": "stdout",
     "output_type": "stream",
     "text": [
      "[array([ 1,  2, 36,  6]), array([4, 5, 5, 6]), array([65,  4, 66,  4])]\n"
     ]
    }
   ],
   "source": [
    "#split the array into three parts\n",
    "\n",
    "import numpy as np\n",
    "arr=np.array([1,2,36,6,4,5,5,6,65,4,66,4])\n",
    "newarr=np.array_split(arr,3)\n",
    "print(newarr)"
   ]
  },
  {
   "cell_type": "markdown",
   "id": "be6f5d3c-1083-4f30-8ff8-4ee708fa869f",
   "metadata": {},
   "source": [
    "Note: The return value is a list containing three arrays.\n",
    "\n",
    "If the array has less elements than required, it will adjust from the end accordingly."
   ]
  },
  {
   "cell_type": "code",
   "execution_count": 163,
   "id": "210e1f34-a485-472c-9c84-bebb984e2d87",
   "metadata": {},
   "outputs": [
    {
     "name": "stdout",
     "output_type": "stream",
     "text": [
      "[array([ 1,  2, 36,  6,  4]), array([ 5,  5,  6, 65,  4]), array([ 66,   4, 424,  24])]\n"
     ]
    }
   ],
   "source": [
    "import numpy as np\n",
    "arr=np.array([1,2,36,6,4,5,5,6,65,4,66,4,424,24])\n",
    "newarr=np.array_split(arr,3)\n",
    "print(newarr) # here last array has less elements"
   ]
  },
  {
   "cell_type": "code",
   "execution_count": 165,
   "id": "22a7a655-fb69-4e6b-8aaf-4e99c7c91cbf",
   "metadata": {},
   "outputs": [
    {
     "name": "stdout",
     "output_type": "stream",
     "text": [
      "[array([ 1,  2, 36]), array([6, 4, 5]), array([ 5,  6, 65]), array([ 4, 66,  4])]\n"
     ]
    }
   ],
   "source": [
    "#split the array into 4 parts:\n",
    "import numpy as np\n",
    "arr=np.array([1,2,36,6,4,5,5,6,65,4,66,4])\n",
    "newarr=np.array_split(arr,4)\n",
    "print(newarr)"
   ]
  },
  {
   "cell_type": "markdown",
   "id": "d2f10374-ce09-4fb4-80b5-60568a719b92",
   "metadata": {},
   "source": [
    "Note: We also have the method split() available but it will not adjust the elements when elements are less in source array for splitting like in example above, array_split() worked properly but split() would fail."
   ]
  },
  {
   "cell_type": "code",
   "execution_count": 168,
   "id": "1fee5f69-9335-496e-83f1-d8691b985d66",
   "metadata": {},
   "outputs": [
    {
     "name": "stdout",
     "output_type": "stream",
     "text": [
      "[array([ 1,  2, 36]), array([6, 4, 5]), array([ 5,  6, 65]), array([ 4, 66,  4])]\n"
     ]
    }
   ],
   "source": [
    "import numpy as np\n",
    "arr=np.array([1,2,36,6,4,5,5,6,65,4,66,4])\n",
    "newarr=np.split(arr,4)\n",
    "print(newarr)"
   ]
  },
  {
   "cell_type": "code",
   "execution_count": null,
   "id": "59afa609-0c81-4a48-934b-7b295aab7923",
   "metadata": {},
   "outputs": [],
   "source": [
    "\"Split into arrays\""
   ]
  },
  {
   "cell_type": "markdown",
   "id": "ae579dcc-fb07-481e-ba57-81722c919852",
   "metadata": {},
   "source": [
    "the return values of the array_split() method is an array containing each of the split as an array.\n",
    "\n",
    "If you split an array into 3 arrays, you can access them from the result just like any array element:"
   ]
  },
  {
   "cell_type": "code",
   "execution_count": null,
   "id": "dceec35a-bac7-4314-9d93-e0d363b46d14",
   "metadata": {},
   "outputs": [],
   "source": [
    "Access the splitted arrays:"
   ]
  },
  {
   "cell_type": "code",
   "execution_count": 183,
   "id": "6960ba7e-7fc7-4214-b934-b19d4cd83b98",
   "metadata": {},
   "outputs": [
    {
     "name": "stdout",
     "output_type": "stream",
     "text": [
      "oroginal: [array([1, 2, 3]), array([ 4,  5, 66]), array([6, 7, 7])]\n",
      "[1 2 3]\n",
      "[ 4  5 66]\n",
      "[6 7 7]\n"
     ]
    }
   ],
   "source": [
    "arr=np.array([1,2,3,4,5,66,6,7,7])\n",
    "newarr=np.array_split(arr,3)\n",
    "print(\"oroginal:\",newarr)\n",
    "\n",
    "print(newarr[0])\n",
    "print(newarr[1])\n",
    "print(newarr[2])"
   ]
  },
  {
   "cell_type": "code",
   "execution_count": null,
   "id": "cdbd9ffc-8075-4c4e-b062-d33d74e4229f",
   "metadata": {},
   "outputs": [],
   "source": [
    "\"Splitting 2-D Arrays\"\n"
   ]
  },
  {
   "cell_type": "markdown",
   "id": "bf3c922e-713f-4472-a443-2563f2e3e6d7",
   "metadata": {},
   "source": [
    "use the same syntax when spltting 2-D arrays;\n",
    "\n",
    "Use the array_split() method, pass in the array you want to split and the number of splits you want to do.\n",
    "\n",
    "Example"
   ]
  },
  {
   "cell_type": "code",
   "execution_count": 188,
   "id": "9ada0fb4-d5b3-4278-bfa5-bebac44f85c1",
   "metadata": {},
   "outputs": [
    {
     "name": "stdout",
     "output_type": "stream",
     "text": [
      "oroginal: [array([[1, 2],\n",
      "       [3, 4]]), array([[ 5, 66],\n",
      "       [ 6,  7]]), array([[7, 6]])]\n",
      "[[1 2]\n",
      " [3 4]]\n",
      "[[ 5 66]\n",
      " [ 6  7]]\n",
      "[[7 6]]\n"
     ]
    }
   ],
   "source": [
    "arr=np.array([[1,2],[3,4],[5,66],[6,7],[7,6]])\n",
    "newarr=np.array_split(arr,3)\n",
    "print(\"oroginal:\",newarr)\n",
    "\n",
    "print(newarr[0])\n",
    "print(newarr[1])\n",
    "print(newarr[2])"
   ]
  },
  {
   "cell_type": "markdown",
   "id": "1c500737-0f65-416d-999f-b0396157a116",
   "metadata": {},
   "source": [
    "The example above returns three 2-D arrays.\n",
    "\n",
    "Let's look at another example, this time each element in the 2-D arrays contains 3 elements."
   ]
  },
  {
   "cell_type": "code",
   "execution_count": null,
   "id": "7a794d7a-ceff-4ba4-90a1-5e8433ab95fa",
   "metadata": {},
   "outputs": [],
   "source": [
    "Split the 2-D array into three 2-D arrays."
   ]
  },
  {
   "cell_type": "code",
   "execution_count": 191,
   "id": "2ebfb501-4cee-4954-9e73-d9a1856a81c5",
   "metadata": {},
   "outputs": [
    {
     "name": "stdout",
     "output_type": "stream",
     "text": [
      "[array([[1, 2, 3],\n",
      "       [4, 5, 6]]), array([[ 7,  8,  9],\n",
      "       [10, 11, 12]]), array([[13, 14, 15],\n",
      "       [16, 17, 18]])]\n"
     ]
    }
   ],
   "source": [
    "arr = np.array([[1, 2, 3], [4, 5, 6], [7, 8, 9], [10, 11, 12], [13, 14, 15], [16, 17, 18]])\n",
    "\n",
    "newarr=np.array_split(arr,3)\n",
    "print(newarr)"
   ]
  },
  {
   "cell_type": "markdown",
   "id": "64722f95-d13f-4c87-9725-c80e18d5887e",
   "metadata": {},
   "source": [
    "The example above returns three 2-D arrays.\n",
    "\n",
    "In addition,we can specify which axis youo wnat to do the splits around.\n",
    "\n",
    "the example below also returns three 2-D arrays ,but they are split along the row (axis=1)"
   ]
  },
  {
   "cell_type": "code",
   "execution_count": 200,
   "id": "be54011f-5c4b-420c-87fc-21a2419af1da",
   "metadata": {},
   "outputs": [
    {
     "name": "stdout",
     "output_type": "stream",
     "text": [
      "[array([[ 1],\n",
      "       [ 4],\n",
      "       [ 7],\n",
      "       [10],\n",
      "       [13],\n",
      "       [16]]), array([[ 2],\n",
      "       [ 5],\n",
      "       [ 8],\n",
      "       [11],\n",
      "       [14],\n",
      "       [17]]), array([[ 3],\n",
      "       [ 6],\n",
      "       [ 9],\n",
      "       [12],\n",
      "       [15],\n",
      "       [18]])]\n"
     ]
    }
   ],
   "source": [
    "import numpy as np\n",
    "\n",
    "arr = np.array([[1, 2, 3], [4, 5, 6], [7, 8, 9], [10, 11, 12], [13, 14, 15], [16, 17, 18]])\n",
    "\n",
    "newarr = np.array_split(arr, 3, axis=1)\n",
    "print(newarr)"
   ]
  },
  {
   "cell_type": "markdown",
   "id": "a6cbbbea-74ae-46b8-9ee6-dd4cce97a46f",
   "metadata": {},
   "source": [
    "An alternate solution is using hsplit() opposite of hstack()\n",
    "\n"
   ]
  },
  {
   "cell_type": "code",
   "execution_count": 203,
   "id": "1a98429f-51eb-46c2-8dad-8c9aff17c31b",
   "metadata": {},
   "outputs": [
    {
     "name": "stdout",
     "output_type": "stream",
     "text": [
      "[array([[ 1],\n",
      "       [ 4],\n",
      "       [ 7],\n",
      "       [10],\n",
      "       [13],\n",
      "       [16]]), array([[ 2],\n",
      "       [ 5],\n",
      "       [ 8],\n",
      "       [11],\n",
      "       [14],\n",
      "       [17]]), array([[ 3],\n",
      "       [ 6],\n",
      "       [ 9],\n",
      "       [12],\n",
      "       [15],\n",
      "       [18]])]\n"
     ]
    }
   ],
   "source": [
    "# Use the hsplit() method to split the 2-D array into three 2-D arrays along rows.\n",
    "\n",
    "import numpy as np\n",
    "\n",
    "arr = np.array([[1, 2, 3], [4, 5, 6], [7, 8, 9], [10, 11, 12], [13, 14, 15], [16, 17, 18]])\n",
    "\n",
    "newarr = np.hsplit(arr, 3)\n",
    "\n",
    "print(newarr)"
   ]
  },
  {
   "cell_type": "markdown",
   "id": "f5a729db-eb0b-4665-94ac-b513674f4122",
   "metadata": {},
   "source": [
    "Note: Similar alternates to vstack() and dstack() are available as vsplit() and dsplit()."
   ]
  },
  {
   "cell_type": "code",
   "execution_count": null,
   "id": "674e3e7e-3cac-4ada-a741-112a69c2d964",
   "metadata": {},
   "outputs": [],
   "source": []
  },
  {
   "cell_type": "code",
   "execution_count": null,
   "id": "20704ee2-4620-429e-bce0-2c147dbe2a21",
   "metadata": {},
   "outputs": [],
   "source": [
    "        \"NumPy Searching Arrays\""
   ]
  },
  {
   "cell_type": "markdown",
   "id": "a9912f84-ffe1-4667-9b30-4c3ed09b8029",
   "metadata": {},
   "source": [
    "you can search an array for a certain value ,and return the indexs that get a match\n",
    "\n",
    "to search an array,use the where() method."
   ]
  },
  {
   "cell_type": "code",
   "execution_count": 213,
   "id": "b827c334-8cae-47fa-8f60-e67ba7a1a5c4",
   "metadata": {},
   "outputs": [
    {
     "name": "stdout",
     "output_type": "stream",
     "text": [
      "(array([3, 5, 6], dtype=int64),)\n"
     ]
    }
   ],
   "source": [
    "import numpy as np\n",
    "\n",
    "arr = np.array([1, 2, 3, 4, 5, 4, 4])\n",
    "\n",
    "x = np.where(arr == 4)\n",
    "\n",
    "print(x)\n",
    "\n",
    "#it will give the indexs of getting matched values\n"
   ]
  },
  {
   "cell_type": "code",
   "execution_count": 4,
   "id": "f7ad1134-c91e-40dd-aff9-ea2c3c9a574d",
   "metadata": {},
   "outputs": [
    {
     "name": "stdout",
     "output_type": "stream",
     "text": [
      "(array([2, 3, 4], dtype=int64),)\n"
     ]
    }
   ],
   "source": [
    "import numpy as np\n",
    "\n",
    "arr = np.array([1, 2, 3,3,3,5,6 ,4, 5, 4, 4])\n",
    "\n",
    "x = np.where(arr == 3)\n",
    "\n",
    "print(x)\n"
   ]
  },
  {
   "cell_type": "markdown",
   "id": "496d02fe-98f0-4e99-a942-d159c908404f",
   "metadata": {},
   "source": [
    "The example above will return a tuple: (array([2, 3, 4],)\n",
    "\n",
    "Which means that the value 4 is present at index 3, 5, and 6."
   ]
  },
  {
   "cell_type": "code",
   "execution_count": null,
   "id": "39035c66-aac6-4b0b-9e21-82382da5643e",
   "metadata": {},
   "outputs": [],
   "source": [
    "Find the indexes where the values are even:"
   ]
  },
  {
   "cell_type": "code",
   "execution_count": 220,
   "id": "72e63c0e-670d-4564-9a88-402ade334e1b",
   "metadata": {},
   "outputs": [
    {
     "name": "stdout",
     "output_type": "stream",
     "text": [
      "(array([ 1,  4,  6,  8, 11, 12, 14, 18], dtype=int64),)\n"
     ]
    }
   ],
   "source": [
    "arr=np.array([1,2,3,45,6,77,32,43,8,99,9,0,0,23,54,3,3,3,2])\n",
    "x=np.where(arr%2==0) #it will checks only indexes having even values\n",
    "print(x)"
   ]
  },
  {
   "cell_type": "code",
   "execution_count": null,
   "id": "2d87c3df-d15b-46cd-b996-00718f9c0fc1",
   "metadata": {},
   "outputs": [],
   "source": [
    "Find the indexes where the values are odd:"
   ]
  },
  {
   "cell_type": "code",
   "execution_count": 229,
   "id": "ec612021-3d4d-42f6-b43b-fce01719a669",
   "metadata": {},
   "outputs": [
    {
     "name": "stdout",
     "output_type": "stream",
     "text": [
      "(array([ 0,  2,  3,  5,  7,  9, 10, 13, 15, 16, 17], dtype=int64),)\n"
     ]
    }
   ],
   "source": [
    "arr=np.array([1,2,3,45,6,77,32,43,8,99,9,0,0,23,54,3,3,3,2])\n",
    "x=np.where(arr%2!=0) #it will checks only indexes having odd values\n",
    "print(x)"
   ]
  },
  {
   "cell_type": "code",
   "execution_count": null,
   "id": "07ea9f45-6d89-4434-9f8c-ee125b3e7942",
   "metadata": {},
   "outputs": [],
   "source": [
    "\"Search Sorted\""
   ]
  },
  {
   "cell_type": "markdown",
   "id": "3cfa70b7-1d62-4f09-a552-3ddbc341bbd0",
   "metadata": {},
   "source": [
    "there is a method called 'searchsorted()' which performs a binary search in the array,\n",
    "and returns the index where the specified value wolud be inserted to maintain the search order\n",
    "\n",
    "example,\n",
    "whenever we inserted any value it will checks the entire array and assume it is sorted and occupy the least index value left or right of the inside values.\n",
    "\n",
    "like [2,3,7,4,6]\n",
    "in this we have 5 elements but not sorted \n",
    "if give that method it will assume it issorted like [2,3,4,6,7] and if insert some value bre like 5 it will take position after 4 .\n",
    "\n",
    "and if we have same values like [1,2,3,3,4,5,5,] like this we have to mention which side you want to place it means side='right' or side='left'"
   ]
  },
  {
   "cell_type": "code",
   "execution_count": 18,
   "id": "3140613b-71c2-4fb7-9a4e-b5e0fd9a8410",
   "metadata": {},
   "outputs": [
    {
     "name": "stdout",
     "output_type": "stream",
     "text": [
      "4\n"
     ]
    }
   ],
   "source": [
    "arr=np.array([3,4,5,6,7,8,9])\n",
    "x=np.searchsorted(arr,7)  #here we have 7 so it will occupy the before 7 index ,it takes side as side='left ' whenever we mention anything\n",
    "print(x)"
   ]
  },
  {
   "cell_type": "markdown",
   "id": "16a4ad11-f610-4422-b39d-86973e036d3f",
   "metadata": {},
   "source": [
    "The searchsorted() method is assumed to be used on sorted arrays."
   ]
  },
  {
   "cell_type": "markdown",
   "id": "fabad420-fd36-4dc9-85e7-4f600f02ba7c",
   "metadata": {},
   "source": [
    "Example explained: The number 7 should be inserted on index 4 to remain the sort order.\n",
    "\n",
    "The method starts the search from the left and returns the first index where the number 7 is no longer larger than the next value."
   ]
  },
  {
   "cell_type": "code",
   "execution_count": null,
   "id": "9760f1e1-c2a5-4c1f-bc21-ad3d590f8b5a",
   "metadata": {},
   "outputs": [],
   "source": [
    "\"search from the right side\""
   ]
  },
  {
   "cell_type": "markdown",
   "id": "35d0f7d5-00ac-4b73-89ce-c58e6de3b291",
   "metadata": {},
   "source": [
    "by default the left most index is returned ,but we can give side=\"right\" to return right most index insted"
   ]
  },
  {
   "cell_type": "code",
   "execution_count": 23,
   "id": "42d46c50-a033-4f39-8a5b-25d3ef70d72d",
   "metadata": {},
   "outputs": [
    {
     "name": "stdout",
     "output_type": "stream",
     "text": [
      "2\n"
     ]
    }
   ],
   "source": [
    "import numpy as np\n",
    "\n",
    "arr = np.array([6, 7,9, 8, 9]) #takes after previous 7 index\n",
    "\n",
    "x = np.searchsorted(arr,7 ,side='right')\n",
    "\n",
    "print(x)"
   ]
  },
  {
   "cell_type": "markdown",
   "id": "ffd2a9fc-cbfd-45e1-ae03-72bfcdf2b4ef",
   "metadata": {},
   "source": [
    "the number 7 should be insterted on index 2 to remain the sort order.\n",
    "the methos strats the search from the right and returns the first index where number 7 is no longer less then next value"
   ]
  },
  {
   "cell_type": "code",
   "execution_count": null,
   "id": "7903bde5-c304-4cdf-8829-5a7264ebb619",
   "metadata": {},
   "outputs": [],
   "source": [
    "\"Multple values\""
   ]
  },
  {
   "cell_type": "markdown",
   "id": "0840aa24-5c1f-4452-a42b-1eb89b803d36",
   "metadata": {},
   "source": [
    "to search for more then one value ,use an array with the specified values"
   ]
  },
  {
   "cell_type": "code",
   "execution_count": 265,
   "id": "0cb8580f-0581-453d-bd6a-b71ecb9efd05",
   "metadata": {},
   "outputs": [
    {
     "name": "stdout",
     "output_type": "stream",
     "text": [
      "[1 2 4]\n"
     ]
    }
   ],
   "source": [
    "#find the indexs for 2,4,5 where values should be inserted\n",
    "\n",
    "import numpy as np\n",
    "arr=np.array([1,2,3,4,5,6,7])\n",
    "x=np.searchsorted(arr,[2,3,5])\n",
    "print(x)"
   ]
  },
  {
   "cell_type": "markdown",
   "id": "186d7da2-1703-4faf-ad69-3b1e13cbd43a",
   "metadata": {},
   "source": [
    "The return value is an array: [1 2 3] containing the three indexes where 2, 4, 6 would be inserted in the original array to maintain the order.\n",
    "\n"
   ]
  },
  {
   "cell_type": "code",
   "execution_count": null,
   "id": "ed2e5f58-2b44-4ae7-9e94-ba1411eb2a85",
   "metadata": {},
   "outputs": [],
   "source": []
  },
  {
   "cell_type": "code",
   "execution_count": null,
   "id": "e8fee7f5-1850-48c7-a2fd-345f8a94f1a0",
   "metadata": {},
   "outputs": [],
   "source": [
    "\"NumPy Sorting Arrays\""
   ]
  },
  {
   "cell_type": "markdown",
   "id": "da2e7779-5929-41b5-b2b7-227c7505a567",
   "metadata": {},
   "source": [
    "sorting means putting elements in ordered sequence.\n",
    "\n",
    "ordered sequence is any sequence that has an order corresponding to elements like numeric or alphanumeric ,ascending or descending.\n",
    "\n",
    "The numpy ndarray object has a function called sort(),that will sort a specified array."
   ]
  },
  {
   "cell_type": "code",
   "execution_count": 30,
   "id": "2a05b5a7-0371-4846-9db1-3260e71b6fb7",
   "metadata": {},
   "outputs": [
    {
     "name": "stdout",
     "output_type": "stream",
     "text": [
      "[ 1  2  2  3  4  5 32 32 33]\n"
     ]
    }
   ],
   "source": [
    "import numpy as np\n",
    "arr=np.array([1,2,33,32,32,3,2,4,5])\n",
    "x=np.sort(arr)\n",
    "print(x)"
   ]
  },
  {
   "cell_type": "markdown",
   "id": "e48e2d02-01b4-426f-86d3-15be2e5f5cb5",
   "metadata": {},
   "source": [
    "Note: This method returns a copy of the array, leaving the original array unchanged."
   ]
  },
  {
   "cell_type": "code",
   "execution_count": null,
   "id": "052244c1-bc54-459b-a699-5c50e6fea29e",
   "metadata": {},
   "outputs": [],
   "source": [
    "we can also sort arrays of strings or any other data type:"
   ]
  },
  {
   "cell_type": "code",
   "execution_count": 33,
   "id": "3602d451-eeff-454d-b687-91819cda30d3",
   "metadata": {},
   "outputs": [
    {
     "name": "stdout",
     "output_type": "stream",
     "text": [
      "['ravi' 'sai' 'srinu']\n"
     ]
    }
   ],
   "source": [
    "arr=np.array([\"srinu\",\"ravi\",\"sai\"])\n",
    "print(np.sort(arr))"
   ]
  },
  {
   "cell_type": "code",
   "execution_count": null,
   "id": "1e56dbc7-eb83-41ff-b16f-6c917c4cac17",
   "metadata": {},
   "outputs": [],
   "source": [
    "sort the boolean array"
   ]
  },
  {
   "cell_type": "code",
   "execution_count": 35,
   "id": "24b8c905-a3df-4e18-b567-979b9e41d763",
   "metadata": {},
   "outputs": [
    {
     "name": "stdout",
     "output_type": "stream",
     "text": [
      "[False  True  True]\n"
     ]
    }
   ],
   "source": [
    "arr=np.array([True,False,True])\n",
    "print(np.sort(arr))"
   ]
  },
  {
   "cell_type": "code",
   "execution_count": null,
   "id": "517ee6c0-527e-4ba1-bec0-1b203ce0d35a",
   "metadata": {},
   "outputs": [],
   "source": [
    "Sorting 2-D arrays:"
   ]
  },
  {
   "cell_type": "markdown",
   "id": "afa93639-ab37-4314-abb2-f6a0af902946",
   "metadata": {},
   "source": [
    "if we you sort() method on 2-D  arrays it will sort both arrays"
   ]
  },
  {
   "cell_type": "code",
   "execution_count": 40,
   "id": "7e37a733-5180-43c0-8674-650bf877a0a4",
   "metadata": {},
   "outputs": [
    {
     "name": "stdout",
     "output_type": "stream",
     "text": [
      "[[1 3 4 5]\n",
      " [2 4 5 8]]\n"
     ]
    }
   ],
   "source": [
    "arr=np.array([[1,5,3,4],[4,5,8,2]])\n",
    "print(np.sort(arr))"
   ]
  },
  {
   "cell_type": "code",
   "execution_count": null,
   "id": "f51121e8-9381-4023-ae91-a611e0caf616",
   "metadata": {},
   "outputs": [],
   "source": [
    "\"NumPy filtering Array\""
   ]
  },
  {
   "cell_type": "markdown",
   "id": "cf52e36f-c004-4bce-afab-bfa5a7b75c87",
   "metadata": {},
   "source": [
    "filtering Arrays:\n",
    "getting some elements out of an existing array and creating a new array\n",
    "out of them is called filtering\n"
   ]
  },
  {
   "cell_type": "markdown",
   "id": "919d7b10-3645-49b8-bab9-83334def2022",
   "metadata": {},
   "source": [
    "A boolean index list is a list of booleans corresponding to indexes in the array."
   ]
  },
  {
   "cell_type": "markdown",
   "id": "b2a067e9-67a2-4751-8787-0520db5b2d59",
   "metadata": {},
   "source": [
    "If the value at an index is True that element is contained in the filtered array,if the value at that index is False that element is excluded from the filtered array."
   ]
  },
  {
   "cell_type": "code",
   "execution_count": 69,
   "id": "6e8ed949-0fb2-4f5a-93aa-2d1b83d7986c",
   "metadata": {},
   "outputs": [
    {
     "name": "stdout",
     "output_type": "stream",
     "text": [
      "[41 43]\n"
     ]
    }
   ],
   "source": [
    "import numpy as np\n",
    "arr=np.array([41,42,43,44])\n",
    "x=[True,False,True,False]\n",
    "newarr=arr[x]\n",
    "print(newarr)"
   ]
  },
  {
   "cell_type": "markdown",
   "id": "26c441cd-eb81-407d-afd7-5fecd1fb65c9",
   "metadata": {},
   "source": [
    "The example above will return [41, 43], why?\n",
    "\n",
    "Because the new array contains only the values where the filter array had the value True, in this case, index 0 and 2."
   ]
  },
  {
   "cell_type": "code",
   "execution_count": null,
   "id": "108d698f-2384-4456-b7c1-cd08727932f4",
   "metadata": {},
   "outputs": [],
   "source": [
    "Creating the Filter Array"
   ]
  },
  {
   "cell_type": "code",
   "execution_count": null,
   "id": "ddcff418-45f8-4ace-af20-94e827376226",
   "metadata": {},
   "outputs": [],
   "source": [
    "in the above example we hard-coded the True and False values ,but the common use it to create a filter based on conditions."
   ]
  },
  {
   "cell_type": "code",
   "execution_count": 74,
   "id": "a4a3a9e9-9900-429e-a4a0-3b6700dcd229",
   "metadata": {},
   "outputs": [
    {
     "name": "stdout",
     "output_type": "stream",
     "text": [
      "[False, False, False, False, True, True]\n",
      "[45 56]\n"
     ]
    }
   ],
   "source": [
    "import numpy as np\n",
    "arr=np.array([41,42,43,43,45,56])\n",
    "\n",
    "#create an empty list\n",
    "filter_arr=[]\n",
    "\n",
    "#go through each element in arr\n",
    "for i in arr:\n",
    "    #if the element is higher then 43 set the value to True otherwise false\n",
    "    if i>43:\n",
    "        filter_arr.append(True)\n",
    "    else:\n",
    "        filter_arr.append(False)\n",
    "\n",
    "newarr=arr[filter_arr]\n",
    "print(filter_arr)\n",
    "print(newarr)"
   ]
  },
  {
   "cell_type": "code",
   "execution_count": 77,
   "id": "a23d41ec-2d3a-4b14-833d-89bbb36d69bd",
   "metadata": {},
   "outputs": [
    {
     "name": "stdout",
     "output_type": "stream",
     "text": [
      "[False, False, True, False, True, False, False, True, True, False, True, False, False, False, False, False, True]\n",
      "[ 4  6 44 88  4 54]\n"
     ]
    }
   ],
   "source": [
    "# ex2:create a filter that will return only even values from the original values\n",
    "\n",
    "arr=np.array([1,3,4,5,6,3,7,44,88,7,4,5,33,53,5,535,54])\n",
    "\n",
    "filter_arr=[]\n",
    "for i in arr:\n",
    "    if i%2==0:\n",
    "        filter_arr.append(True)\n",
    "    else:\n",
    "        filter_arr.append(False)\n",
    "\n",
    "newarr=arr[filter_arr]\n",
    "print(filter_arr)\n",
    "print(newarr)"
   ]
  },
  {
   "cell_type": "code",
   "execution_count": 79,
   "id": "6a748de7-28f2-4b1a-82d9-683225c0db81",
   "metadata": {},
   "outputs": [
    {
     "name": "stdout",
     "output_type": "stream",
     "text": [
      "[True, True, False, True, False, True, True, False, False, True, False, True, True, True, True, True, False]\n",
      "[  1   3   5   3   7   7   5  33  53   5 535]\n"
     ]
    }
   ],
   "source": [
    "# ex2:create a filter that will return only odd values from the original values\n",
    "\n",
    "arr=np.array([1,3,4,5,6,3,7,44,88,7,4,5,33,53,5,535,54])\n",
    "\n",
    "filter_arr=[]\n",
    "for i in arr:\n",
    "    if i%2!=0:\n",
    "        filter_arr.append(True)\n",
    "    else:\n",
    "        filter_arr.append(False)\n",
    "\n",
    "newarr=arr[filter_arr]\n",
    "print(filter_arr)\n",
    "print(newarr)"
   ]
  },
  {
   "cell_type": "code",
   "execution_count": null,
   "id": "c6f94e10-4472-442d-bfb9-6d39e4ba5f8a",
   "metadata": {},
   "outputs": [],
   "source": [
    "\n",
    "Creating Filter Directly From Array"
   ]
  },
  {
   "cell_type": "markdown",
   "id": "f71c0141-409d-4fa1-97d5-43ff75ffeeb6",
   "metadata": {},
   "source": [
    "the above example is quite a common task in numpy and numpy provides a nice to tackle it.\n",
    "\n",
    "we can directly substitute the array instead of the iterable variable in our condition and it will just as we expect it to."
   ]
  },
  {
   "cell_type": "code",
   "execution_count": 86,
   "id": "210caaae-c3e2-4cc5-bf0e-7f8097537a10",
   "metadata": {},
   "outputs": [
    {
     "name": "stdout",
     "output_type": "stream",
     "text": [
      "[False False  True  True  True  True  True False]\n",
      "[53 53 43 53 43]\n"
     ]
    }
   ],
   "source": [
    "import numpy as np\n",
    "\n",
    "arr=np.array([32,32,53,53,43,53,43,32])\n",
    "filter_arr=arr>40\n",
    "newarr=arr[filter_arr]\n",
    "print(filter_arr)\n",
    "print(newarr)"
   ]
  },
  {
   "cell_type": "code",
   "execution_count": 88,
   "id": "86063bfe-d0fb-4e42-a8ba-001a5f78337e",
   "metadata": {},
   "outputs": [
    {
     "name": "stdout",
     "output_type": "stream",
     "text": [
      "[False  True False  True False  True False  True]\n",
      "[2 4 6 8]\n"
     ]
    }
   ],
   "source": [
    "#even check\n",
    "arr=np.array([1,2,3,4,5,6,7,8])\n",
    "filter_arr=arr%2==0\n",
    "newarr=arr[filter_arr]\n",
    "print(filter_arr)\n",
    "print(newarr)"
   ]
  },
  {
   "cell_type": "code",
   "execution_count": 90,
   "id": "6cfe9b79-3597-4514-91df-48b794745373",
   "metadata": {},
   "outputs": [
    {
     "name": "stdout",
     "output_type": "stream",
     "text": [
      "[ True False  True False  True False  True False]\n",
      "[1 3 5 7]\n"
     ]
    }
   ],
   "source": [
    "#odd check\n",
    "arr=np.array([1,2,3,4,5,6,7,8])\n",
    "filter_arr=arr%2!=0\n",
    "newarr=arr[filter_arr]\n",
    "print(filter_arr)\n",
    "print(newarr)"
   ]
  },
  {
   "cell_type": "code",
   "execution_count": null,
   "id": "75a97226-d335-4c69-af3a-7ee1787ca91e",
   "metadata": {},
   "outputs": [],
   "source": []
  }
 ],
 "metadata": {
  "kernelspec": {
   "display_name": "Python 3 (ipykernel)",
   "language": "python",
   "name": "python3"
  },
  "language_info": {
   "codemirror_mode": {
    "name": "ipython",
    "version": 3
   },
   "file_extension": ".py",
   "mimetype": "text/x-python",
   "name": "python",
   "nbconvert_exporter": "python",
   "pygments_lexer": "ipython3",
   "version": "3.12.4"
  }
 },
 "nbformat": 4,
 "nbformat_minor": 5
}
